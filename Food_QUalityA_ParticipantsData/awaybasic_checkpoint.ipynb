{
  "nbformat": 4,
  "nbformat_minor": 0,
  "metadata": {
    "kernelspec": {
      "display_name": "Python 3",
      "language": "python",
      "name": "python3"
    },
    "language_info": {
      "codemirror_mode": {
        "name": "ipython",
        "version": 3
      },
      "file_extension": ".py",
      "mimetype": "text/x-python",
      "name": "python",
      "nbconvert_exporter": "python",
      "pygments_lexer": "ipython3",
      "version": "3.6.9"
    },
    "colab": {
      "name": "awaybasic-checkpoint.ipynb",
      "provenance": []
    }
  },
  "cells": [
    {
      "cell_type": "code",
      "metadata": {
        "id": "kFEo8EwDLq1H",
        "colab_type": "code",
        "outputId": "3a82fbf3-bed9-41fb-f462-205cb544e604",
        "colab": {
          "base_uri": "https://localhost:8080/",
          "height": 34
        }
      },
      "source": [
        "import pandas as pd\n",
        "import numpy as np\n",
        "pd.plotting.register_matplotlib_converters()\n",
        "import matplotlib.pyplot as plt\n",
        "%matplotlib inline\n",
        "import seaborn as sns\n",
        "import category_encoders\n",
        "import pandas as pd\n",
        "import numpy as np\n",
        "from sklearn.model_selection import train_test_split\n",
        "from sklearn.tree import DecisionTreeClassifier\n",
        "from sklearn.ensemble import RandomForestClassifier\n",
        "from sklearn import linear_model\n",
        "from sklearn.linear_model import LogisticRegression\n",
        "from sklearn.linear_model import Perceptron\n",
        "from sklearn.linear_model import SGDClassifier\n",
        "from sklearn.neighbors import KNeighborsClassifier\n",
        "from sklearn.svm import SVC, LinearSVC\n",
        "import xgboost as xgb\n",
        "from sklearn.naive_bayes import GaussianNB\n",
        "from xgboost import XGBClassifier\n",
        "from mlxtend.classifier import StackingClassifier\n",
        "from sklearn.metrics import accuracy_score\n",
        "from sklearn.ensemble import BaggingClassifier\n",
        "import matplotlib as plt\n",
        "from random import randint\n",
        "\n",
        "from sklearn.compose import ColumnTransformer\n",
        "from sklearn.pipeline import Pipeline\n",
        "from sklearn.impute import SimpleImputer\n",
        "from sklearn.preprocessing import OneHotEncoder\n",
        "from sklearn.preprocessing import LabelEncoder\n",
        "\n",
        "\n",
        "\n",
        "print(\"Setup Complete\")"
      ],
      "execution_count": 0,
      "outputs": [
        {
          "output_type": "stream",
          "text": [
            "Setup Complete\n"
          ],
          "name": "stdout"
        }
      ]
    },
    {
      "cell_type": "code",
      "metadata": {
        "id": "qoz1hAGBLq1Q",
        "colab_type": "code",
        "colab": {}
      },
      "source": [
        "# Read the file into a variable fifa_data\n",
        "filepath = \"/content/Data_Train.xlsx\"\n",
        "data = pd.read_excel(filepath)\n"
      ],
      "execution_count": 0,
      "outputs": []
    },
    {
      "cell_type": "code",
      "metadata": {
        "id": "hbEjJjM0Lq1X",
        "colab_type": "code",
        "colab": {}
      },
      "source": [
        "# testdata = pd.read_excel('/home/ryan/stark/MachineHack/Food_QUalityA_ParticipantsData/Data_Test.xlsx')\n",
        "# data.head(3)"
      ],
      "execution_count": 0,
      "outputs": []
    },
    {
      "cell_type": "code",
      "metadata": {
        "id": "6ARLchbRLq1c",
        "colab_type": "code",
        "colab": {}
      },
      "source": [
        "from sklearn.model_selection import train_test_split\n",
        "y = data.Inspection_Results\n",
        "\n",
        "# To keep things simple, we'll use only numerical predictors\n",
        "X = data.drop(['Inspection_Results'], axis=1)\n",
        "\n",
        "X_train, X_valid, y_train, y_valid = train_test_split(X, y, train_size=0.65, test_size=0.35,random_state=0)"
      ],
      "execution_count": 0,
      "outputs": []
    },
    {
      "cell_type": "code",
      "metadata": {
        "id": "S5TBcpj4Lq1i",
        "colab_type": "code",
        "outputId": "0f50f7e2-5186-4a13-eb65-dfa615cecbde",
        "colab": {
          "base_uri": "https://localhost:8080/",
          "height": 153
        }
      },
      "source": [
        "X_train.skew()"
      ],
      "execution_count": 0,
      "outputs": [
        {
          "output_type": "execute_result",
          "data": {
            "text/plain": [
              "ID                     0.007343\n",
              "LicenseNo              0.186462\n",
              "FacilityID            -0.064033\n",
              "FacilityName          -0.070667\n",
              "Street                 0.042701\n",
              "LocationID          -267.384769\n",
              "SectionViolations     -0.541301\n",
              "dtype: float64"
            ]
          },
          "metadata": {
            "tags": []
          },
          "execution_count": 197
        }
      ]
    },
    {
      "cell_type": "code",
      "metadata": {
        "id": "vDNxavNYLq1o",
        "colab_type": "code",
        "outputId": "e794795e-af5f-44c4-81a2-bb762afe13fb",
        "colab": {
          "base_uri": "https://localhost:8080/",
          "height": 394
        }
      },
      "source": [
        "X_valid.head()"
      ],
      "execution_count": 0,
      "outputs": [
        {
          "output_type": "execute_result",
          "data": {
            "text/html": [
              "<div>\n",
              "<style scoped>\n",
              "    .dataframe tbody tr th:only-of-type {\n",
              "        vertical-align: middle;\n",
              "    }\n",
              "\n",
              "    .dataframe tbody tr th {\n",
              "        vertical-align: top;\n",
              "    }\n",
              "\n",
              "    .dataframe thead th {\n",
              "        text-align: right;\n",
              "    }\n",
              "</style>\n",
              "<table border=\"1\" class=\"dataframe\">\n",
              "  <thead>\n",
              "    <tr style=\"text-align: right;\">\n",
              "      <th></th>\n",
              "      <th>ID</th>\n",
              "      <th>Date</th>\n",
              "      <th>LicenseNo</th>\n",
              "      <th>FacilityID</th>\n",
              "      <th>FacilityName</th>\n",
              "      <th>Type</th>\n",
              "      <th>Street</th>\n",
              "      <th>City</th>\n",
              "      <th>State</th>\n",
              "      <th>LocationID</th>\n",
              "      <th>Reason</th>\n",
              "      <th>SectionViolations</th>\n",
              "      <th>RiskLevel</th>\n",
              "      <th>Geo_Loc</th>\n",
              "    </tr>\n",
              "  </thead>\n",
              "  <tbody>\n",
              "    <tr>\n",
              "      <th>76851</th>\n",
              "      <td>24443412747647</td>\n",
              "      <td>09-07-2018</td>\n",
              "      <td>28225</td>\n",
              "      <td>4702</td>\n",
              "      <td>4480</td>\n",
              "      <td>RESTAURANT</td>\n",
              "      <td>13072</td>\n",
              "      <td>id-11235901</td>\n",
              "      <td>id_1890134</td>\n",
              "      <td>81875.0</td>\n",
              "      <td>CANVASS</td>\n",
              "      <td>2.0</td>\n",
              "      <td>High</td>\n",
              "      <td>locid15302</td>\n",
              "    </tr>\n",
              "    <tr>\n",
              "      <th>36203</th>\n",
              "      <td>47254212658879</td>\n",
              "      <td>17-11-2014</td>\n",
              "      <td>743</td>\n",
              "      <td>25793</td>\n",
              "      <td>24635</td>\n",
              "      <td>CAFE/STORE</td>\n",
              "      <td>2087</td>\n",
              "      <td>id-11235901</td>\n",
              "      <td>id_1890134</td>\n",
              "      <td>81882.0</td>\n",
              "      <td>CANVASS</td>\n",
              "      <td>32.0</td>\n",
              "      <td>Medium</td>\n",
              "      <td>locid3211</td>\n",
              "    </tr>\n",
              "    <tr>\n",
              "      <th>3760</th>\n",
              "      <td>25946353205233</td>\n",
              "      <td>19-12-2015</td>\n",
              "      <td>24297</td>\n",
              "      <td>13257</td>\n",
              "      <td>12588</td>\n",
              "      <td>RESTAURANT</td>\n",
              "      <td>2382</td>\n",
              "      <td>id-11235901</td>\n",
              "      <td>id_1890134</td>\n",
              "      <td>81855.0</td>\n",
              "      <td>CANVASS RE-INSPECTION</td>\n",
              "      <td>NaN</td>\n",
              "      <td>High</td>\n",
              "      <td>locid9774</td>\n",
              "    </tr>\n",
              "    <tr>\n",
              "      <th>51377</th>\n",
              "      <td>28473392743625</td>\n",
              "      <td>21-10-2010</td>\n",
              "      <td>18030</td>\n",
              "      <td>7609</td>\n",
              "      <td>7234</td>\n",
              "      <td>SCHOOL</td>\n",
              "      <td>12441</td>\n",
              "      <td>id-11235901</td>\n",
              "      <td>id_1890134</td>\n",
              "      <td>81883.0</td>\n",
              "      <td>CANVASS</td>\n",
              "      <td>32.0</td>\n",
              "      <td>High</td>\n",
              "      <td>locid3875</td>\n",
              "    </tr>\n",
              "    <tr>\n",
              "      <th>116892</th>\n",
              "      <td>45067242875655</td>\n",
              "      <td>31-01-2012</td>\n",
              "      <td>17544</td>\n",
              "      <td>23678</td>\n",
              "      <td>22588</td>\n",
              "      <td>RESTAURANT</td>\n",
              "      <td>479</td>\n",
              "      <td>id-11235901</td>\n",
              "      <td>id_1890134</td>\n",
              "      <td>81862.0</td>\n",
              "      <td>CANVASS</td>\n",
              "      <td>33.0</td>\n",
              "      <td>High</td>\n",
              "      <td>locid511</td>\n",
              "    </tr>\n",
              "  </tbody>\n",
              "</table>\n",
              "</div>"
            ],
            "text/plain": [
              "                    ID        Date  ...  RiskLevel     Geo_Loc\n",
              "76851   24443412747647  09-07-2018  ...       High  locid15302\n",
              "36203   47254212658879  17-11-2014  ...     Medium   locid3211\n",
              "3760    25946353205233  19-12-2015  ...       High   locid9774\n",
              "51377   28473392743625  21-10-2010  ...       High   locid3875\n",
              "116892  45067242875655  31-01-2012  ...       High    locid511\n",
              "\n",
              "[5 rows x 14 columns]"
            ]
          },
          "metadata": {
            "tags": []
          },
          "execution_count": 198
        }
      ]
    },
    {
      "cell_type": "code",
      "metadata": {
        "id": "yQx71DcSLq1v",
        "colab_type": "code",
        "colab": {}
      },
      "source": [
        "class LabelEncoderExt(object):\n",
        "    def __init__(self):\n",
        "        \"\"\"\n",
        "        It differs from LabelEncoder by handling new classes and providing a value for it [Unknown]\n",
        "        Unknown will be added in fit and transform will take care of new item. It gives unknown class id\n",
        "        \"\"\"\n",
        "        self.label_encoder = LabelEncoder()\n",
        "        # self.classes_ = self.label_encoder.classes_\n",
        "\n",
        "    def fit(self, data_list):\n",
        "        \"\"\"\n",
        "        This will fit the encoder for all the unique values and introduce unknown value\n",
        "        :param data_list: A list of string\n",
        "        :return: self\n",
        "        \"\"\"\n",
        "        self.label_encoder = self.label_encoder.fit(list(data_list) + ['Unknown'])\n",
        "        self.classes_ = self.label_encoder.classes_\n",
        "\n",
        "        return self\n",
        "\n",
        "    def transform(self, data_list):\n",
        "        \"\"\"\n",
        "        This will transform the data_list to id list where the new values get assigned to Unknown class\n",
        "        :param data_list:\n",
        "        :return:\n",
        "        \"\"\"\n",
        "        new_data_list = list(data_list)\n",
        "        for unique_item in np.unique(data_list):\n",
        "            if unique_item not in self.label_encoder.classes_:\n",
        "                new_data_list = ['Unknown' if x==unique_item else x for x in new_data_list]\n",
        "\n",
        "        return self.label_encoder.transform(new_data_list)\n",
        "    \n",
        "    \n",
        "    \n",
        "    \n",
        "    \n",
        "# from sklearn.tree import DecisionTreeClassifier\n",
        "\n",
        "# from sklearn.ensemble import BaggingClassifier\n",
        "\n",
        "# clf1 = DecisionTreeClassifier(ccp_alpha=0.0, class_weight=None, criterion='entropy',\n",
        "#                        max_depth=None, max_features=11, max_leaf_nodes=None,\n",
        "#                        min_impurity_decrease=0.0, min_impurity_split=None,\n",
        "#                        min_samples_leaf=8, min_samples_split=2,\n",
        "#                        min_weight_fraction_leaf=0.0, presort='deprecated',\n",
        "#                        random_state=None, splitter='best')\n",
        "\n",
        "# clf2 = BaggingClassifier(base_estimator=clf1, n_estimators=100, max_samples=1.0, max_features=1.0, \n",
        "#                          bootstrap=True,\n",
        "#                          bootstrap_features=False, oob_score=True, warm_start=False,\n",
        "#                          n_jobs=-1, random_state=None, verbose=0)\n",
        "\n",
        "# clf3=XGBClassifier(base_score=0.5, booster='gbtree', colsample_bylevel=1,\n",
        "#               colsample_bynode=1, colsample_bytree=0.8, gamma=0.5,\n",
        "#               learning_rate=0.1, max_delta_step=0, max_depth=5,\n",
        "#               min_child_weight=1, missing=None, n_estimators=100, n_jobs=1,\n",
        "#               nthread=None, objective='multi:softprob', random_state=0,\n",
        "#               reg_alpha=0, reg_lambda=1, scale_pos_weight=1, seed=None,\n",
        "#               silent=None, subsample=0.6, verbosity=1)  "
      ],
      "execution_count": 0,
      "outputs": []
    },
    {
      "cell_type": "code",
      "metadata": {
        "id": "xaOKY4bpLq11",
        "colab_type": "code",
        "colab": {}
      },
      "source": [
        "def dropcol(train,test):\n",
        "    train['logID'] = np.log1p(train['ID'])\n",
        "    test['logID'] = np.log1p(test['ID'])\n",
        "    cols_to_drop = ['Date','ID']\n",
        "    dtrain = train.drop(cols_to_drop,axis =1)\n",
        "    dtest = test.drop(cols_to_drop,axis =1)\n",
        "    \n",
        "    print(dtrain.shape,dtest.shape)\n",
        "\n",
        "    return dtrain,dtest\n",
        "\n",
        "def catVar1(data):\n",
        "    categorical_colsT1 = [cname for cname in data.columns if\n",
        "                    data[cname].nunique() <=10 and \n",
        "                    data[cname].dtype == \"object\"]\n",
        "    return categorical_colsT1\n",
        "\n",
        "def catVar2(data):\n",
        "    categorical_colsT2 = [cname for cname in data.columns if\n",
        "                    data[cname].nunique() >10 and \n",
        "                    data[cname].dtype == \"object\"]\n",
        "    return categorical_colsT2\n",
        "\n",
        "def NumVar(data) :\n",
        "    numerical_cols = [cname for cname in data.columns if \n",
        "    data[cname].dtype in ['int64', 'float64']]\n",
        "    return numerical_cols\n",
        "\n",
        "def imputer(train,test):\n",
        "    \n",
        "    from sklearn.impute import SimpleImputer\n",
        "    \n",
        "    numerical_cols = NumVar(train)\n",
        "    my_imputer = SimpleImputer(strategy='most_frequent')\n",
        "    imputed_train = pd.DataFrame(my_imputer.fit_transform(train))\n",
        "    imputed_test = pd.DataFrame(my_imputer.transform(test))\n",
        "\n",
        "    # Imputation removed column names; put them back\n",
        "    imputed_train.columns = train.columns\n",
        "    imputed_test.columns = test.columns\n",
        "    \n",
        "    #restoring datatypes \n",
        "    imputed_train[numerical_cols] = imputed_train[numerical_cols].apply(pd.to_numeric, errors='coerce')\n",
        "    imputed_test[numerical_cols] = imputed_test[numerical_cols].apply(pd.to_numeric, errors='coerce')\n",
        "    print(imputed_train.shape,imputed_test.shape)\n",
        "    return imputed_train,imputed_test \n",
        "\n",
        "def robustlabelencoder(train,test):\n",
        "    from sklearn.preprocessing import LabelEncoder\n",
        "\n",
        "    label_enc = LabelEncoderExt()\n",
        "    cols = catVar2(train)\n",
        "    print(cols)\n",
        "    for col in cols:\n",
        "        label_enc.fit(train[col])\n",
        "        train[col] = label_enc.transform(train[col])\n",
        "        test[col] = label_enc.transform(test[col])\n",
        "        \n",
        "    print(train.shape,test.shape)\n",
        "    \n",
        "    return train,test\n",
        "\n",
        "def normalabelencoder(train,test,cols):\n",
        "    from sklearn.preprocessing import LabelEncoder\n",
        "\n",
        "    label_enc = LabelEncoder()\n",
        "    \n",
        "    print(cols)\n",
        "    for col in cols:\n",
        "        label_enc.fit(train[col])\n",
        "        train[col] = label_enc.transform(train[col])\n",
        "        test[col] = label_enc.transform(test[col])\n",
        "    \n",
        "    return train,test\n",
        "\n",
        "\n",
        "\n",
        "def ohebygetdummis(train,test):\n",
        "    pass\n",
        "\n",
        "def onhotencoder(train,test):\n",
        "    \n",
        "    from sklearn.preprocessing import OneHotEncoder\n",
        "    object_cols = catVar1(train) #catVar1 gives desired categorical column and not all object columns\n",
        "    print(object_cols)\n",
        "    \n",
        "    OH_encoder = OneHotEncoder(handle_unknown='ignore', sparse=False)\n",
        "    OH_cols_train = pd.DataFrame(OH_encoder.fit_transform(train[object_cols]))\n",
        "    OH_cols_test = pd.DataFrame(OH_encoder.transform(test[object_cols]))\n",
        "\n",
        "    # One-hot encoding removed index; put it back\n",
        "    OH_cols_train.index = train.index\n",
        "    OH_cols_test.index = test.index\n",
        "\n",
        "    ##hack for restoring columns names just like get dummies\n",
        "    column_name = OH_encoder.get_feature_names(object_cols)\n",
        "    OH_cols_train.columns = column_name\n",
        "    OH_cols_test.columns = column_name\n",
        "    \n",
        "\n",
        "    # Remove desired categorical columns (will replace with one-hot encoding)\n",
        "    num_train = train.drop(object_cols, axis=1)\n",
        "    num_test = test.drop(object_cols, axis=1)\n",
        "\n",
        "    # Add one-hot encoded columns to numerical/remaining features\n",
        "    OH_train = pd.concat([num_train, OH_cols_train], axis=1)\n",
        "    OH_test = pd.concat([num_test, OH_cols_test], axis=1)\n",
        "    \n",
        "    print(OH_train.shape,OH_test.shape)\n",
        "    \n",
        "    \n",
        "    return OH_train,OH_test\n",
        "\n",
        "def missingcheck(data):\n",
        "    total = data.isnull().sum().sort_values(ascending=False)\n",
        "    percent_1 = data.isnull().sum()/data.isnull().count()*100\n",
        "    percent_2 = (np.round(percent_1, 1)).sort_values(ascending=False)\n",
        "    missing_data = pd.concat([total, percent_2], axis=1, keys=['Total', '%']) #ptr\n",
        "    return missing_data\n",
        "\n",
        "def targetencoding(train,test,y_train):\n",
        "    import category_encoders as ce\n",
        "    # Create the encoder itself\n",
        "    cat_features = catVar2(train)\n",
        "    print(f'targest emcoding for features {cat_features}')\n",
        "    target_enc = ce.TargetEncoder(cols=cat_features)\n",
        "\n",
        "    \n",
        "\n",
        "    # Fit the encoder using the categorical features and target\n",
        "    target_enc.fit(train[cat_features], y_train)\n",
        "    \n",
        "\n",
        "    # Transform the features, rename the columns with _target suffix, and join to dataframe\n",
        "    traintrgtenc = train.join(target_enc.transform(train[cat_features]).add_suffix('_target'))\n",
        "    testtrgtenc = test.join(target_enc.transform(test[cat_features]).add_suffix('_target'))\n",
        "\n",
        "    traintrgtenc = traintrgtenc.drop(cat_features, axis =1)\n",
        "    testtrgtenc = testtrgtenc.drop(cat_features, axis =1)\n",
        "\n",
        "    \n",
        "    print(traintrgtenc.shape,testtrgtenc.shape)\n",
        "    \n",
        "    return traintrgtenc,testtrgtenc\n",
        "\n",
        "\n",
        "def special(train,test):\n",
        "    train['Geo_Loc'] = train['Geo_Loc'].str.replace(r'\\D', '')\n",
        "    train['Geo_Loc'] = pd.to_numeric(train['Geo_Loc'], errors='coerce') \n",
        "    \n",
        "    test['Geo_Loc'] = test['Geo_Loc'].str.replace(r'\\D', '')\n",
        "    test['Geo_Loc'] = pd.to_numeric(test['Geo_Loc'], errors='coerce')\n",
        "    \n",
        "    train['Date'] = pd.to_datetime(train['Date'] ,errors='coerce')\n",
        "    test['Date'] = pd.to_datetime(test['Date'] ,errors='coerce')\n",
        "    \n",
        "    train = train.assign(\n",
        "               hour=train.Date.dt.hour,\n",
        "               day=train.Date.dt.day,\n",
        "               month=train.Date.dt.month,\n",
        "               year=train.Date.dt.year\n",
        "                        )\n",
        "    \n",
        "    test = test.assign(\n",
        "               hour=test.Date.dt.hour,\n",
        "               day=test.Date.dt.day,\n",
        "               month=test.Date.dt.month,\n",
        "               year=test.Date.dt.year\n",
        "                        )\n",
        "    print(train.shape,test.shape)\n",
        "    \n",
        "    return train, test"
      ],
      "execution_count": 0,
      "outputs": []
    },
    {
      "cell_type": "code",
      "metadata": {
        "id": "n0gqe6UoLq15",
        "colab_type": "code",
        "colab": {}
      },
      "source": [
        "# def syntheticvariable(train , y ):\n",
        "#     from imblearn.over_sampling import SMOTENC\n",
        "#     from collections import Counter\n",
        "#     categorical_features = [cname.index for cname in train.columns if train[cname].dtype == \"object\"]\n",
        "#     out = np.argwhere(train.columns.isin(categorical_features)).ravel().tolist()\n",
        "    \n",
        "#     smote_nc = SMOTENC([3, 5, 6, 8, 10], random_state=0)  #instead of passing out i need to hardcode it.\n",
        "\n",
        "#     X_resampled, y_resampled = smote_nc.fit_resample(train,y)\n",
        "    \n",
        "#     print(sorted(Counter(y_resampled).items()))\n",
        "    \n",
        "#     return X_resampled,y_resampled\n",
        "    "
      ],
      "execution_count": 0,
      "outputs": []
    },
    {
      "cell_type": "code",
      "metadata": {
        "id": "glt8kTxZLq1-",
        "colab_type": "code",
        "colab": {}
      },
      "source": [
        "#####crete new features###"
      ],
      "execution_count": 0,
      "outputs": []
    },
    {
      "cell_type": "code",
      "metadata": {
        "id": "tTTM9ah-Lq2F",
        "colab_type": "code",
        "colab": {}
      },
      "source": [
        "def createIntercations(train,test,cat_features):\n",
        "    import itertools\n",
        "    print(f\"Creating features on {cat_features}, with combination 2 for training data /n\")\n",
        "    interactionstrain = pd.DataFrame(index=train.index)\n",
        "    \n",
        "    for col1 ,col2 in  itertools.combinations(cat_features,2):   \n",
        "        newcolname = col1 + \"_\" + col2 \n",
        "        new_values = train[col1].map(str) + \"_\" + train[col2].map(str)\n",
        "        interactionstrain[newcolname] = new_values\n",
        "\n",
        "    \n",
        "    train_df = train.join(interactionstrain)\n",
        "    \n",
        "    print(f\"Creating features on {cat_features}, with combination 2 for testing data\")\n",
        "    interactionstest = pd.DataFrame(index=train.index)\n",
        "    \n",
        "    for col1 ,col2 in  itertools.combinations(cat_features,2):   \n",
        "        newcolname = col1 + \"_\" + col2 \n",
        "        new_values = test[col1].map(str) + \"_\" + test[col2].map(str)\n",
        "        interactionstest[newcolname] = new_values\n",
        "\n",
        "    test_df = test.join(interactionstest)\n",
        "    \n",
        "    print(train_df.shape,test_df.shape)\n",
        "    \n",
        "    \n",
        "    return train_df,test_df\n"
      ],
      "execution_count": 0,
      "outputs": []
    },
    {
      "cell_type": "code",
      "metadata": {
        "id": "d6CI5m2cLq2K",
        "colab_type": "code",
        "colab": {}
      },
      "source": [
        "def createmeanfestures(train,test ,features):\n",
        "  \n",
        "  cols = features\n",
        "  interactionstrain = pd.DataFrame(index=train.index)\n",
        "  interactionstest = pd.DataFrame(index=test.index)\n",
        "\n",
        "  for col  in cols:   \n",
        "        newcolname = col + \"_mean\"   \n",
        "        new_values = train[col].mean()\n",
        "        interactionstrain[newcolname] = new_values\n",
        "\n",
        "  for col  in cols:   \n",
        "        newcolname = col + \"_mean\"   \n",
        "        new_values = test[col].mean()\n",
        "        interactionstest[newcolname] = new_values\n",
        "\n",
        "\n",
        "  train_df = train.join(interactionstrain)\n",
        "  test_df = test.join(interactionstest)\n",
        "\n",
        "  print(train_df.shape,test_df.shape)\n",
        "\n",
        "  return train_df,test_df\n",
        "\n",
        "\n",
        "\n",
        "\n",
        "def createlogfestures(train,test,features):\n",
        "  \n",
        "  cols = features\n",
        "  interactionstrain = pd.DataFrame(index=train.index)\n",
        "  interactionstest = pd.DataFrame(index=test.index)\n",
        "  for col  in cols:   \n",
        "        newcolname = col + \"_log\"   \n",
        "        new_values = np.log1p(train[col])\n",
        "        interactionstrain[newcolname] = new_values\n",
        "\n",
        "  for col  in cols:   \n",
        "        newcolname = col + \"_log\"   \n",
        "        new_values = np.log1p(test[col])\n",
        "        interactionstest[newcolname] = new_values\n",
        "\n",
        "\n",
        "  train_df = train.join(interactionstrain)\n",
        "  test_df = test.join(interactionstest)\n",
        "\n",
        "  print(train_df.shape,test_df.shape)\n",
        "\n",
        "\n",
        "  return train_df ,test_df\n",
        "\n",
        "def createsqrtfeatures(train,test,features):\n",
        "\n",
        "  cols = features\n",
        "  interactionstrain = pd.DataFrame(index=train.index)\n",
        "  interactionstest = pd.DataFrame(index=test.index)\n",
        "  \n",
        "  for col  in cols:   \n",
        "        newcolname = col + \"_sqrt\"   \n",
        "        new_values = np.sqrt(train[col])\n",
        "        interactionstrain[newcolname] = new_values\n",
        "\n",
        "  for col  in cols:   \n",
        "        newcolname = col + \"_sqrt\"   \n",
        "        new_values = np.sqrt(test[col])\n",
        "        interactionstest[newcolname] = new_values\n",
        "\n",
        "\n",
        "  train_df = train.join(interactionstrain)\n",
        "  test_df = test.join(interactionstest)\n",
        "\n",
        "  print(train_df.shape,test_df.shape)\n",
        "\n",
        "\n",
        "  return train_df ,test_df\n"
      ],
      "execution_count": 0,
      "outputs": []
    },
    {
      "cell_type": "code",
      "metadata": {
        "id": "H4qIejjhLq2O",
        "colab_type": "code",
        "colab": {}
      },
      "source": [
        "from sklearn.ensemble import RandomForestClassifier\n",
        "from xgboost import XGBClassifier\n",
        "\n",
        "from sklearn.metrics import log_loss\n",
        "from sklearn.metrics import mean_absolute_error\n",
        "from sklearn.metrics import classification_report\n",
        "from sklearn.metrics import classification_report\n",
        "    \n",
        "# Function for comparing different approaches\n",
        "def score_dataset(X_train, X_valid, y_train, y_valid):\n",
        "    #model = RandomForestClassifier(random_state=0)\n",
        "    #model.fit(X_train, y_train)\n",
        "    from sklearn.tree import DecisionTreeClassifier\n",
        "\n",
        "    from sklearn.ensemble import BaggingClassifier\n",
        "\n",
        "    clf1 = DecisionTreeClassifier(ccp_alpha=0.0, class_weight=None, criterion='entropy',\n",
        "                       max_depth=None, max_features=25, max_leaf_nodes=None,\n",
        "                       min_impurity_decrease=0.0, min_impurity_split=None,\n",
        "                       min_samples_leaf=8, min_samples_split=2,\n",
        "                       min_weight_fraction_leaf=0.0, presort='deprecated',\n",
        "                       random_state=None, splitter='best')\n",
        "\n",
        "    clf2 = BaggingClassifier(base_estimator=clf1, n_estimators=10, \n",
        "                             bootstrap=True,\n",
        "                             bootstrap_features=False, oob_score=True, warm_start=False,\n",
        "                             n_jobs=-1, random_state=786, verbose=0)\n",
        "    clf2.fit(X_train,y_train)\n",
        "\n",
        "    preds = clf2.predict(X_valid)\n",
        "    target_names = ['class 0', 'class 1', 'class 2','class 3', 'class 4', 'class 5', 'class 6']\n",
        "    print(classification_report(y_valid, preds, target_names=target_names,labels= [0,1,2,3,4,5,6]))\n",
        "    return clf2.score(X_valid,y_valid) "
      ],
      "execution_count": 0,
      "outputs": []
    },
    {
      "cell_type": "code",
      "metadata": {
        "id": "jG0IPOVrLq2T",
        "colab_type": "code",
        "colab": {}
      },
      "source": [
        "# X_train, X_valid, y_train, y_valid\n",
        "#clf1"
      ],
      "execution_count": 0,
      "outputs": []
    },
    {
      "cell_type": "code",
      "metadata": {
        "id": "3aCJ8JExLq2X",
        "colab_type": "code",
        "outputId": "01e10416-b376-4745-ff76-9a5d40cf0005",
        "colab": {
          "base_uri": "https://localhost:8080/",
          "height": 544
        }
      },
      "source": [
        "X_trainS, X_validS = special(X_train ,X_valid)"
      ],
      "execution_count": 0,
      "outputs": [
        {
          "output_type": "stream",
          "text": [
            "/usr/local/lib/python3.6/dist-packages/ipykernel_launcher.py:148: SettingWithCopyWarning: \n",
            "A value is trying to be set on a copy of a slice from a DataFrame.\n",
            "Try using .loc[row_indexer,col_indexer] = value instead\n",
            "\n",
            "See the caveats in the documentation: http://pandas.pydata.org/pandas-docs/stable/user_guide/indexing.html#returning-a-view-versus-a-copy\n",
            "/usr/local/lib/python3.6/dist-packages/ipykernel_launcher.py:149: SettingWithCopyWarning: \n",
            "A value is trying to be set on a copy of a slice from a DataFrame.\n",
            "Try using .loc[row_indexer,col_indexer] = value instead\n",
            "\n",
            "See the caveats in the documentation: http://pandas.pydata.org/pandas-docs/stable/user_guide/indexing.html#returning-a-view-versus-a-copy\n",
            "/usr/local/lib/python3.6/dist-packages/ipykernel_launcher.py:151: SettingWithCopyWarning: \n",
            "A value is trying to be set on a copy of a slice from a DataFrame.\n",
            "Try using .loc[row_indexer,col_indexer] = value instead\n",
            "\n",
            "See the caveats in the documentation: http://pandas.pydata.org/pandas-docs/stable/user_guide/indexing.html#returning-a-view-versus-a-copy\n",
            "/usr/local/lib/python3.6/dist-packages/ipykernel_launcher.py:152: SettingWithCopyWarning: \n",
            "A value is trying to be set on a copy of a slice from a DataFrame.\n",
            "Try using .loc[row_indexer,col_indexer] = value instead\n",
            "\n",
            "See the caveats in the documentation: http://pandas.pydata.org/pandas-docs/stable/user_guide/indexing.html#returning-a-view-versus-a-copy\n"
          ],
          "name": "stderr"
        },
        {
          "output_type": "stream",
          "text": [
            "(95837, 18) (51606, 18)\n"
          ],
          "name": "stdout"
        },
        {
          "output_type": "stream",
          "text": [
            "/usr/local/lib/python3.6/dist-packages/ipykernel_launcher.py:154: SettingWithCopyWarning: \n",
            "A value is trying to be set on a copy of a slice from a DataFrame.\n",
            "Try using .loc[row_indexer,col_indexer] = value instead\n",
            "\n",
            "See the caveats in the documentation: http://pandas.pydata.org/pandas-docs/stable/user_guide/indexing.html#returning-a-view-versus-a-copy\n",
            "/usr/local/lib/python3.6/dist-packages/ipykernel_launcher.py:155: SettingWithCopyWarning: \n",
            "A value is trying to be set on a copy of a slice from a DataFrame.\n",
            "Try using .loc[row_indexer,col_indexer] = value instead\n",
            "\n",
            "See the caveats in the documentation: http://pandas.pydata.org/pandas-docs/stable/user_guide/indexing.html#returning-a-view-versus-a-copy\n"
          ],
          "name": "stderr"
        }
      ]
    },
    {
      "cell_type": "code",
      "metadata": {
        "id": "Os_fd0AYLq2e",
        "colab_type": "code",
        "outputId": "76b63eee-8257-4db7-96ca-2482c23dfb72",
        "colab": {
          "base_uri": "https://localhost:8080/",
          "height": 34
        }
      },
      "source": [
        "X_trainSDr, X_validSDr = dropcol(X_trainS,X_validS)"
      ],
      "execution_count": 0,
      "outputs": [
        {
          "output_type": "stream",
          "text": [
            "(95837, 17) (51606, 17)\n"
          ],
          "name": "stdout"
        }
      ]
    },
    {
      "cell_type": "code",
      "metadata": {
        "id": "ro7b9oEqLq2k",
        "colab_type": "code",
        "outputId": "d2dd3845-23e1-4a62-c9af-ca38ac559e5c",
        "colab": {
          "base_uri": "https://localhost:8080/",
          "height": 34
        }
      },
      "source": [
        "X_trainSDrIM, X_validSDrIM = imputer(X_trainSDr,X_validSDr)"
      ],
      "execution_count": 0,
      "outputs": [
        {
          "output_type": "stream",
          "text": [
            "(95837, 17) (51606, 17)\n"
          ],
          "name": "stdout"
        }
      ]
    },
    {
      "cell_type": "code",
      "metadata": {
        "id": "dxkAfjvCLq2q",
        "colab_type": "code",
        "outputId": "0f2cd5fe-7e65-4330-de46-678b6cc69c44",
        "colab": {
          "base_uri": "https://localhost:8080/",
          "height": 612
        }
      },
      "source": [
        "missingcheck(X_trainSDrIM),missingcheck( X_validSDrIM) "
      ],
      "execution_count": 0,
      "outputs": [
        {
          "output_type": "execute_result",
          "data": {
            "text/plain": [
              "(                   Total    %\n",
              " logID                  0  0.0\n",
              " LocationID             0  0.0\n",
              " FacilityID             0  0.0\n",
              " FacilityName           0  0.0\n",
              " Type                   0  0.0\n",
              " Street                 0  0.0\n",
              " City                   0  0.0\n",
              " State                  0  0.0\n",
              " Reason                 0  0.0\n",
              " year                   0  0.0\n",
              " SectionViolations      0  0.0\n",
              " RiskLevel              0  0.0\n",
              " Geo_Loc                0  0.0\n",
              " hour                   0  0.0\n",
              " day                    0  0.0\n",
              " month                  0  0.0\n",
              " LicenseNo              0  0.0,                    Total    %\n",
              " logID                  0  0.0\n",
              " LocationID             0  0.0\n",
              " FacilityID             0  0.0\n",
              " FacilityName           0  0.0\n",
              " Type                   0  0.0\n",
              " Street                 0  0.0\n",
              " City                   0  0.0\n",
              " State                  0  0.0\n",
              " Reason                 0  0.0\n",
              " year                   0  0.0\n",
              " SectionViolations      0  0.0\n",
              " RiskLevel              0  0.0\n",
              " Geo_Loc                0  0.0\n",
              " hour                   0  0.0\n",
              " day                    0  0.0\n",
              " month                  0  0.0\n",
              " LicenseNo              0  0.0)"
            ]
          },
          "metadata": {
            "tags": []
          },
          "execution_count": 209
        }
      ]
    },
    {
      "cell_type": "code",
      "metadata": {
        "id": "2aw1FGA0Lq2u",
        "colab_type": "code",
        "outputId": "c38efd08-d954-41a7-a794-b64e8b14eb12",
        "colab": {
          "base_uri": "https://localhost:8080/",
          "height": 68
        }
      },
      "source": [
        "X_trainSDrIMinter1,X_validSDrIMinter1 = createIntercations(X_trainSDrIM, X_validSDrIM,cat_features = ['SectionViolations','RiskLevel','Reason'])"
      ],
      "execution_count": 0,
      "outputs": [
        {
          "output_type": "stream",
          "text": [
            "Creating features on ['SectionViolations', 'RiskLevel', 'Reason'], with combination 2 for training data /n\n",
            "Creating features on ['SectionViolations', 'RiskLevel', 'Reason'], with combination 2 for testing data\n",
            "(95837, 20) (51606, 20)\n"
          ],
          "name": "stdout"
        }
      ]
    },
    {
      "cell_type": "code",
      "metadata": {
        "id": "3kYy-ZzwLq2y",
        "colab_type": "code",
        "outputId": "372d0c76-8130-4dca-be62-f6c58ee192de",
        "colab": {
          "base_uri": "https://localhost:8080/",
          "height": 68
        }
      },
      "source": [
        "X_trainSDrIMinter2,X_validSDrIMinter2 = createIntercations(X_trainSDrIMinter1, X_validSDrIMinter1,cat_features = ['State','City','Street','LocationID','Geo_Loc']\n",
        ")"
      ],
      "execution_count": 0,
      "outputs": [
        {
          "output_type": "stream",
          "text": [
            "Creating features on ['State', 'City', 'Street', 'LocationID', 'Geo_Loc'], with combination 2 for training data /n\n",
            "Creating features on ['State', 'City', 'Street', 'LocationID', 'Geo_Loc'], with combination 2 for testing data\n",
            "(95837, 30) (51606, 30)\n"
          ],
          "name": "stdout"
        }
      ]
    },
    {
      "cell_type": "code",
      "metadata": {
        "id": "jaK3rthjLq22",
        "colab_type": "code",
        "colab": {}
      },
      "source": [
        "# X_trainSDrIMintertgenc,X_validSDrIMinter2tgenc = targetencoding(X_trainSDrIMinter2,X_validSDrIMinter2,y_train)"
      ],
      "execution_count": 0,
      "outputs": []
    },
    {
      "cell_type": "code",
      "metadata": {
        "id": "yWqJ47VYLq29",
        "colab_type": "code",
        "outputId": "55b003e3-1719-4c87-9bf8-431d9b54cd12",
        "colab": {
          "base_uri": "https://localhost:8080/",
          "height": 71
        }
      },
      "source": [
        "X_trainSDrIMinter2lbl,X_validSDrIMinter2lbl = robustlabelencoder(X_trainSDrIMinter2,X_validSDrIMinter2 )"
      ],
      "execution_count": 0,
      "outputs": [
        {
          "output_type": "stream",
          "text": [
            "['Type', 'Reason', 'SectionViolations_RiskLevel', 'SectionViolations_Reason', 'RiskLevel_Reason', 'State_Street', 'State_LocationID', 'State_Geo_Loc', 'City_Street', 'City_LocationID', 'City_Geo_Loc', 'Street_LocationID', 'Street_Geo_Loc', 'LocationID_Geo_Loc']\n",
            "(95837, 30) (51606, 30)\n"
          ],
          "name": "stdout"
        }
      ]
    },
    {
      "cell_type": "code",
      "metadata": {
        "id": "Zqc8oJbZLq3C",
        "colab_type": "code",
        "colab": {}
      },
      "source": [
        ""
      ],
      "execution_count": 0,
      "outputs": []
    },
    {
      "cell_type": "code",
      "metadata": {
        "id": "v-VY5Kj5Lq3G",
        "colab_type": "code",
        "colab": {}
      },
      "source": [
        ""
      ],
      "execution_count": 0,
      "outputs": []
    },
    {
      "cell_type": "code",
      "metadata": {
        "id": "u3mh8M9DLq3J",
        "colab_type": "code",
        "outputId": "7ec7345a-4dec-4561-c745-5e05383d944c",
        "colab": {
          "base_uri": "https://localhost:8080/",
          "height": 51
        }
      },
      "source": [
        "X_trainSDrIMinter2lblohe,X_validSDrIMinter2lblohe = onhotencoder(X_trainSDrIMinter2lbl,X_validSDrIMinter2lbl)"
      ],
      "execution_count": 0,
      "outputs": [
        {
          "output_type": "stream",
          "text": [
            "['City', 'State', 'RiskLevel', 'State_City']\n",
            "(95837, 38) (51606, 38)\n"
          ],
          "name": "stdout"
        }
      ]
    },
    {
      "cell_type": "code",
      "metadata": {
        "id": "8SeFb6P7wSDj",
        "colab_type": "code",
        "outputId": "5246a922-5689-41e3-f144-15112a193360",
        "colab": {
          "base_uri": "https://localhost:8080/",
          "height": 255
        }
      },
      "source": [
        "features = X_trainSDrIMinter2lblohe.columns\n",
        "features"
      ],
      "execution_count": 0,
      "outputs": [
        {
          "output_type": "execute_result",
          "data": {
            "text/plain": [
              "Index(['LicenseNo', 'FacilityID', 'FacilityName', 'Type', 'Street',\n",
              "       'LocationID', 'Reason', 'SectionViolations', 'Geo_Loc', 'hour', 'day',\n",
              "       'month', 'year', 'logID', 'SectionViolations_RiskLevel',\n",
              "       'SectionViolations_Reason', 'RiskLevel_Reason', 'State_Street',\n",
              "       'State_LocationID', 'State_Geo_Loc', 'City_Street', 'City_LocationID',\n",
              "       'City_Geo_Loc', 'Street_LocationID', 'Street_Geo_Loc',\n",
              "       'LocationID_Geo_Loc', 'City_id-11235901', 'City_id-11275913',\n",
              "       'State_id_1890134', 'State_id_1890135', 'RiskLevel_High',\n",
              "       'RiskLevel_Low', 'RiskLevel_Medium', 'RiskLevel_Uncertain',\n",
              "       'State_City_id_1890134_id-11235901',\n",
              "       'State_City_id_1890134_id-11275913',\n",
              "       'State_City_id_1890135_id-11235901',\n",
              "       'State_City_id_1890135_id-11275913'],\n",
              "      dtype='object')"
            ]
          },
          "metadata": {
            "tags": []
          },
          "execution_count": 215
        }
      ]
    },
    {
      "cell_type": "code",
      "metadata": {
        "id": "7VcTkYBfuoxw",
        "colab_type": "code",
        "outputId": "ab52ef67-905f-4a21-a033-af890abee230",
        "colab": {
          "base_uri": "https://localhost:8080/",
          "height": 34
        }
      },
      "source": [
        "X_trainSDrIMinter2lblohem,X_validSDrIMinter2lblohem = createmeanfestures(X_trainSDrIMinter2lblohe,X_validSDrIMinter2lblohe,features)"
      ],
      "execution_count": 0,
      "outputs": [
        {
          "output_type": "stream",
          "text": [
            "(95837, 76) (51606, 76)\n"
          ],
          "name": "stdout"
        }
      ]
    },
    {
      "cell_type": "code",
      "metadata": {
        "id": "ZjbAtYuUuo_P",
        "colab_type": "code",
        "outputId": "0dc1abab-9ba4-4962-ab73-7b874577c1a1",
        "colab": {
          "base_uri": "https://localhost:8080/",
          "height": 34
        }
      },
      "source": [
        "X_trainSDrIMinter2lblohemlog,X_validSDrIMinter2lblohemlog = createlogfestures(X_trainSDrIMinter2lblohem,X_validSDrIMinter2lblohem,features)"
      ],
      "execution_count": 0,
      "outputs": [
        {
          "output_type": "stream",
          "text": [
            "(95837, 114) (51606, 114)\n"
          ],
          "name": "stdout"
        }
      ]
    },
    {
      "cell_type": "code",
      "metadata": {
        "id": "PnoVbxPJ0S0H",
        "colab_type": "code",
        "outputId": "ed8f2533-2ddc-4587-f9b1-dd7a3864d5a4",
        "colab": {
          "base_uri": "https://localhost:8080/",
          "height": 34
        }
      },
      "source": [
        "X_trainSDrIMinter2lblohemlogsqrt,X_validSDrIMinter2lblohemlogsqrt = createsqrtfeatures(X_trainSDrIMinter2lblohemlog,X_validSDrIMinter2lblohemlog,features)"
      ],
      "execution_count": 0,
      "outputs": [
        {
          "output_type": "stream",
          "text": [
            "(95837, 152) (51606, 152)\n"
          ],
          "name": "stdout"
        }
      ]
    },
    {
      "cell_type": "code",
      "metadata": {
        "id": "PQ18Td2i0S3P",
        "colab_type": "code",
        "colab": {}
      },
      "source": [
        ""
      ],
      "execution_count": 0,
      "outputs": []
    },
    {
      "cell_type": "code",
      "metadata": {
        "id": "ydTEzDKq0SyL",
        "colab_type": "code",
        "colab": {}
      },
      "source": [
        ""
      ],
      "execution_count": 0,
      "outputs": []
    },
    {
      "cell_type": "code",
      "metadata": {
        "id": "mKKFVSsLLq3O",
        "colab_type": "code",
        "colab": {}
      },
      "source": [
        "# #X_trainSDrIMinter2lblohe.head(2)\n",
        "# X_trainSDrIMinter2lbloheqq,X_validSDrIMinter2lbloheqq = imputer(X_trainSDrIMintertgenc,X_validSDrIMinter2tgenc)"
      ],
      "execution_count": 0,
      "outputs": []
    },
    {
      "cell_type": "code",
      "metadata": {
        "id": "pX_poPD_Lq3T",
        "colab_type": "code",
        "outputId": "a34b03c0-a993-4a08-93d5-7e73a1993130",
        "colab": {
          "base_uri": "https://localhost:8080/",
          "height": 34
        }
      },
      "source": [
        "X_trainSDrIMinter2lblohem.shape"
      ],
      "execution_count": 0,
      "outputs": [
        {
          "output_type": "execute_result",
          "data": {
            "text/plain": [
              "(95837, 76)"
            ]
          },
          "metadata": {
            "tags": []
          },
          "execution_count": 220
        }
      ]
    },
    {
      "cell_type": "code",
      "metadata": {
        "id": "IGFQlNmeLq3Y",
        "colab_type": "code",
        "outputId": "a1d64fef-a44e-42cf-e8fe-e8fbdce3a0f6",
        "colab": {
          "base_uri": "https://localhost:8080/",
          "height": 34
        }
      },
      "source": [
        "y_train.shape"
      ],
      "execution_count": 0,
      "outputs": [
        {
          "output_type": "execute_result",
          "data": {
            "text/plain": [
              "(95837,)"
            ]
          },
          "metadata": {
            "tags": []
          },
          "execution_count": 221
        }
      ]
    },
    {
      "cell_type": "code",
      "metadata": {
        "id": "yr02lYmVLq3c",
        "colab_type": "code",
        "outputId": "87e0008f-50f1-4081-ff11-294e16d3b6c1",
        "colab": {
          "base_uri": "https://localhost:8080/",
          "height": 34
        }
      },
      "source": [
        "X_validSDrIMinter2lblohem.shape"
      ],
      "execution_count": 0,
      "outputs": [
        {
          "output_type": "execute_result",
          "data": {
            "text/plain": [
              "(51606, 76)"
            ]
          },
          "metadata": {
            "tags": []
          },
          "execution_count": 222
        }
      ]
    },
    {
      "cell_type": "code",
      "metadata": {
        "id": "VV2o3wKtLq3g",
        "colab_type": "code",
        "outputId": "75949e0d-e1f6-498f-c0a2-47e96bd5eabc",
        "colab": {
          "base_uri": "https://localhost:8080/",
          "height": 34
        }
      },
      "source": [
        "y_valid.shape"
      ],
      "execution_count": 0,
      "outputs": [
        {
          "output_type": "execute_result",
          "data": {
            "text/plain": [
              "(51606,)"
            ]
          },
          "metadata": {
            "tags": []
          },
          "execution_count": 223
        }
      ]
    },
    {
      "cell_type": "code",
      "metadata": {
        "id": "nkcczloiLq3m",
        "colab_type": "code",
        "outputId": "7b3a376f-5331-41e6-bf29-1c6898c5979e",
        "colab": {
          "base_uri": "https://localhost:8080/",
          "height": 979
        }
      },
      "source": [
        "missingcheck(X_trainSDrIMinter2lbloheqq)"
      ],
      "execution_count": 0,
      "outputs": [
        {
          "output_type": "execute_result",
          "data": {
            "text/html": [
              "<div>\n",
              "<style scoped>\n",
              "    .dataframe tbody tr th:only-of-type {\n",
              "        vertical-align: middle;\n",
              "    }\n",
              "\n",
              "    .dataframe tbody tr th {\n",
              "        vertical-align: top;\n",
              "    }\n",
              "\n",
              "    .dataframe thead th {\n",
              "        text-align: right;\n",
              "    }\n",
              "</style>\n",
              "<table border=\"1\" class=\"dataframe\">\n",
              "  <thead>\n",
              "    <tr style=\"text-align: right;\">\n",
              "      <th></th>\n",
              "      <th>Total</th>\n",
              "      <th>%</th>\n",
              "    </tr>\n",
              "  </thead>\n",
              "  <tbody>\n",
              "    <tr>\n",
              "      <th>LocationID_Geo_Loc_target</th>\n",
              "      <td>0</td>\n",
              "      <td>0.0</td>\n",
              "    </tr>\n",
              "    <tr>\n",
              "      <th>Street_Geo_Loc_target</th>\n",
              "      <td>0</td>\n",
              "      <td>0.0</td>\n",
              "    </tr>\n",
              "    <tr>\n",
              "      <th>FacilityID</th>\n",
              "      <td>0</td>\n",
              "      <td>0.0</td>\n",
              "    </tr>\n",
              "    <tr>\n",
              "      <th>FacilityName</th>\n",
              "      <td>0</td>\n",
              "      <td>0.0</td>\n",
              "    </tr>\n",
              "    <tr>\n",
              "      <th>Street</th>\n",
              "      <td>0</td>\n",
              "      <td>0.0</td>\n",
              "    </tr>\n",
              "    <tr>\n",
              "      <th>LocationID</th>\n",
              "      <td>0</td>\n",
              "      <td>0.0</td>\n",
              "    </tr>\n",
              "    <tr>\n",
              "      <th>SectionViolations</th>\n",
              "      <td>0</td>\n",
              "      <td>0.0</td>\n",
              "    </tr>\n",
              "    <tr>\n",
              "      <th>Geo_Loc</th>\n",
              "      <td>0</td>\n",
              "      <td>0.0</td>\n",
              "    </tr>\n",
              "    <tr>\n",
              "      <th>hour</th>\n",
              "      <td>0</td>\n",
              "      <td>0.0</td>\n",
              "    </tr>\n",
              "    <tr>\n",
              "      <th>day</th>\n",
              "      <td>0</td>\n",
              "      <td>0.0</td>\n",
              "    </tr>\n",
              "    <tr>\n",
              "      <th>month</th>\n",
              "      <td>0</td>\n",
              "      <td>0.0</td>\n",
              "    </tr>\n",
              "    <tr>\n",
              "      <th>year</th>\n",
              "      <td>0</td>\n",
              "      <td>0.0</td>\n",
              "    </tr>\n",
              "    <tr>\n",
              "      <th>logID</th>\n",
              "      <td>0</td>\n",
              "      <td>0.0</td>\n",
              "    </tr>\n",
              "    <tr>\n",
              "      <th>Type_target</th>\n",
              "      <td>0</td>\n",
              "      <td>0.0</td>\n",
              "    </tr>\n",
              "    <tr>\n",
              "      <th>City_target</th>\n",
              "      <td>0</td>\n",
              "      <td>0.0</td>\n",
              "    </tr>\n",
              "    <tr>\n",
              "      <th>State_target</th>\n",
              "      <td>0</td>\n",
              "      <td>0.0</td>\n",
              "    </tr>\n",
              "    <tr>\n",
              "      <th>Reason_target</th>\n",
              "      <td>0</td>\n",
              "      <td>0.0</td>\n",
              "    </tr>\n",
              "    <tr>\n",
              "      <th>RiskLevel_target</th>\n",
              "      <td>0</td>\n",
              "      <td>0.0</td>\n",
              "    </tr>\n",
              "    <tr>\n",
              "      <th>SectionViolations_RiskLevel_target</th>\n",
              "      <td>0</td>\n",
              "      <td>0.0</td>\n",
              "    </tr>\n",
              "    <tr>\n",
              "      <th>SectionViolations_Reason_target</th>\n",
              "      <td>0</td>\n",
              "      <td>0.0</td>\n",
              "    </tr>\n",
              "    <tr>\n",
              "      <th>RiskLevel_Reason_target</th>\n",
              "      <td>0</td>\n",
              "      <td>0.0</td>\n",
              "    </tr>\n",
              "    <tr>\n",
              "      <th>State_City_target</th>\n",
              "      <td>0</td>\n",
              "      <td>0.0</td>\n",
              "    </tr>\n",
              "    <tr>\n",
              "      <th>State_Street_target</th>\n",
              "      <td>0</td>\n",
              "      <td>0.0</td>\n",
              "    </tr>\n",
              "    <tr>\n",
              "      <th>State_LocationID_target</th>\n",
              "      <td>0</td>\n",
              "      <td>0.0</td>\n",
              "    </tr>\n",
              "    <tr>\n",
              "      <th>State_Geo_Loc_target</th>\n",
              "      <td>0</td>\n",
              "      <td>0.0</td>\n",
              "    </tr>\n",
              "    <tr>\n",
              "      <th>City_Street_target</th>\n",
              "      <td>0</td>\n",
              "      <td>0.0</td>\n",
              "    </tr>\n",
              "    <tr>\n",
              "      <th>City_LocationID_target</th>\n",
              "      <td>0</td>\n",
              "      <td>0.0</td>\n",
              "    </tr>\n",
              "    <tr>\n",
              "      <th>City_Geo_Loc_target</th>\n",
              "      <td>0</td>\n",
              "      <td>0.0</td>\n",
              "    </tr>\n",
              "    <tr>\n",
              "      <th>Street_LocationID_target</th>\n",
              "      <td>0</td>\n",
              "      <td>0.0</td>\n",
              "    </tr>\n",
              "    <tr>\n",
              "      <th>LicenseNo</th>\n",
              "      <td>0</td>\n",
              "      <td>0.0</td>\n",
              "    </tr>\n",
              "  </tbody>\n",
              "</table>\n",
              "</div>"
            ],
            "text/plain": [
              "                                    Total    %\n",
              "LocationID_Geo_Loc_target               0  0.0\n",
              "Street_Geo_Loc_target                   0  0.0\n",
              "FacilityID                              0  0.0\n",
              "FacilityName                            0  0.0\n",
              "Street                                  0  0.0\n",
              "LocationID                              0  0.0\n",
              "SectionViolations                       0  0.0\n",
              "Geo_Loc                                 0  0.0\n",
              "hour                                    0  0.0\n",
              "day                                     0  0.0\n",
              "month                                   0  0.0\n",
              "year                                    0  0.0\n",
              "logID                                   0  0.0\n",
              "Type_target                             0  0.0\n",
              "City_target                             0  0.0\n",
              "State_target                            0  0.0\n",
              "Reason_target                           0  0.0\n",
              "RiskLevel_target                        0  0.0\n",
              "SectionViolations_RiskLevel_target      0  0.0\n",
              "SectionViolations_Reason_target         0  0.0\n",
              "RiskLevel_Reason_target                 0  0.0\n",
              "State_City_target                       0  0.0\n",
              "State_Street_target                     0  0.0\n",
              "State_LocationID_target                 0  0.0\n",
              "State_Geo_Loc_target                    0  0.0\n",
              "City_Street_target                      0  0.0\n",
              "City_LocationID_target                  0  0.0\n",
              "City_Geo_Loc_target                     0  0.0\n",
              "Street_LocationID_target                0  0.0\n",
              "LicenseNo                               0  0.0"
            ]
          },
          "metadata": {
            "tags": []
          },
          "execution_count": 224
        }
      ]
    },
    {
      "cell_type": "code",
      "metadata": {
        "id": "ukpEhWOGLq3r",
        "colab_type": "code",
        "outputId": "ce8df03e-1e6d-4996-dc29-56c60a646fdc",
        "colab": {
          "base_uri": "https://localhost:8080/",
          "height": 187
        }
      },
      "source": [
        "X_trainSDrIMinter2lbloheqq.columns"
      ],
      "execution_count": 0,
      "outputs": [
        {
          "output_type": "execute_result",
          "data": {
            "text/plain": [
              "Index(['LicenseNo', 'FacilityID', 'FacilityName', 'Street', 'LocationID',\n",
              "       'SectionViolations', 'Geo_Loc', 'hour', 'day', 'month', 'year', 'logID',\n",
              "       'Type_target', 'City_target', 'State_target', 'Reason_target',\n",
              "       'RiskLevel_target', 'SectionViolations_RiskLevel_target',\n",
              "       'SectionViolations_Reason_target', 'RiskLevel_Reason_target',\n",
              "       'State_City_target', 'State_Street_target', 'State_LocationID_target',\n",
              "       'State_Geo_Loc_target', 'City_Street_target', 'City_LocationID_target',\n",
              "       'City_Geo_Loc_target', 'Street_LocationID_target',\n",
              "       'Street_Geo_Loc_target', 'LocationID_Geo_Loc_target'],\n",
              "      dtype='object')"
            ]
          },
          "metadata": {
            "tags": []
          },
          "execution_count": 225
        }
      ]
    },
    {
      "cell_type": "code",
      "metadata": {
        "id": "QI4FveAuLq3w",
        "colab_type": "code",
        "colab": {}
      },
      "source": [
        "#cols_to_drop = []\n",
        "\n",
        "# dtrain = X_trainSDrIMinter2lbloheqq.drop(cols_to_drop,axis =1)\n",
        "# dtest = X_validSDrIMinter2lbloheqq.drop(cols_to_drop,axis =1)\n",
        "    "
      ],
      "execution_count": 0,
      "outputs": []
    },
    {
      "cell_type": "code",
      "metadata": {
        "id": "yKiWmkmxLq33",
        "colab_type": "code",
        "colab": {}
      },
      "source": [
        "# from sklearn.linear_model import LogisticRegression\n",
        "# from sklearn.ensemble import ExtraTreesClassifier\n",
        "\n",
        "# from sklearn.feature_selection import SelectFromModel\n",
        "# extclf = ExtraTreesClassifier(n_estimators=100, random_state=7)\n",
        "\n",
        "# # Set the regularization parameter C=1\n",
        "# logistic = RandomForestClassifier(n_estimators=100, random_state=7 ).fit(X_trainSDrIMinter2lbloheqq, y_train)\n",
        "# model = SelectFromModel(logistic, prefit=True)\n",
        "\n",
        "\n",
        "# X_new = model.transform(X_trainSDrIMinter2lbloheqq)\n",
        "# X_new"
      ],
      "execution_count": 0,
      "outputs": []
    },
    {
      "cell_type": "code",
      "metadata": {
        "id": "jfjd1Ua_Lq37",
        "colab_type": "code",
        "colab": {}
      },
      "source": [
        "# selected_features = pd.DataFrame(model.inverse_transform(X_new), \n",
        "#                                  index=X_trainSDrIMinter2lbloheqq.index,\n",
        "#                                  columns=X_trainSDrIMinter2lbloheqq.columns)\n",
        "\n",
        "# # Dropped columns have values of all 0s, keep other columns \n",
        "# selected_columns = selected_features.columns[selected_features.var() != 0]"
      ],
      "execution_count": 0,
      "outputs": []
    },
    {
      "cell_type": "code",
      "metadata": {
        "id": "IRNLl-JSLq4A",
        "colab_type": "code",
        "colab": {}
      },
      "source": [
        "# selected_columns"
      ],
      "execution_count": 0,
      "outputs": []
    },
    {
      "cell_type": "code",
      "metadata": {
        "id": "xSLUBkDFLq4G",
        "colab_type": "code",
        "colab": {}
      },
      "source": [
        "# selected_columns"
      ],
      "execution_count": 0,
      "outputs": []
    },
    {
      "cell_type": "code",
      "metadata": {
        "id": "Kt2B-Hz4Lq4N",
        "colab_type": "code",
        "colab": {}
      },
      "source": [
        "# from sklearn.feature_selection import SelectKBest, f_classif\n",
        "# selector = SelectKBest(f_classif, k=20)\n",
        "\n",
        "# X_new1 = selector.fit_transform(X_trainSDrIMinter2lbloheqq, y_train)\n",
        "# X_new1\n"
      ],
      "execution_count": 0,
      "outputs": []
    },
    {
      "cell_type": "code",
      "metadata": {
        "id": "teq6Fe0gLq4R",
        "colab_type": "code",
        "colab": {}
      },
      "source": [
        "# selected_features1 = pd.DataFrame(selector.inverse_transform(X_new1), \n",
        "#                                  index=X_trainSDrIMinter2lbloheqq.index,\n",
        "#                                  columns=X_trainSDrIMinter2lbloheqq.columns)\n",
        "\n",
        "# # Dropped columns have values of all 0s, keep other columns \n",
        "# selected_columns1 = selected_features1.columns[selected_features1.var() != 0]"
      ],
      "execution_count": 0,
      "outputs": []
    },
    {
      "cell_type": "code",
      "metadata": {
        "id": "RirRYFP-Lq4U",
        "colab_type": "code",
        "colab": {}
      },
      "source": [
        "# # selected_columns1\n",
        "# X_trainSDrIMintertgenc #,X_validSDrIMinter2tgenc"
      ],
      "execution_count": 0,
      "outputs": []
    },
    {
      "cell_type": "code",
      "metadata": {
        "id": "3J9tekIZ2PGk",
        "colab_type": "code",
        "outputId": "649d2e90-d7bd-4a9a-a945-cef69fa22de4",
        "colab": {
          "base_uri": "https://localhost:8080/",
          "height": 221
        }
      },
      "source": [
        "X_trainSDrIMinter2lblohemlog.skew()"
      ],
      "execution_count": 0,
      "outputs": [
        {
          "output_type": "execute_result",
          "data": {
            "text/plain": [
              "LicenseNo                                0.186462\n",
              "FacilityID                              -0.064033\n",
              "FacilityName                            -0.070667\n",
              "Type                                    -1.715462\n",
              "Street                                   0.042701\n",
              "                                           ...   \n",
              "RiskLevel_Uncertain_log                       NaN\n",
              "State_City_id_1890134_id-11235901_log         NaN\n",
              "State_City_id_1890134_id-11275913_log         NaN\n",
              "State_City_id_1890135_id-11235901_log         NaN\n",
              "State_City_id_1890135_id-11275913_log         NaN\n",
              "Length: 114, dtype: float64"
            ]
          },
          "metadata": {
            "tags": []
          },
          "execution_count": 232
        }
      ]
    },
    {
      "cell_type": "code",
      "metadata": {
        "id": "_mx0d4hOLq4Z",
        "colab_type": "code",
        "outputId": "f63151b1-66c5-4c59-b984-88c60e3f3056",
        "colab": {
          "base_uri": "https://localhost:8080/",
          "height": 394
        }
      },
      "source": [
        "score_dataset(X_trainSDrIMinter2lblohemlogsqrt,X_validSDrIMinter2lblohemlogsqrt,y_train,y_valid)"
      ],
      "execution_count": 0,
      "outputs": [
        {
          "output_type": "stream",
          "text": [
            "/usr/local/lib/python3.6/dist-packages/sklearn/ensemble/_bagging.py:633: UserWarning: Some inputs do not have OOB scores. This probably means too few estimators were used to compute any reliable oob estimates.\n",
            "  warn(\"Some inputs do not have OOB scores. \"\n",
            "/usr/local/lib/python3.6/dist-packages/sklearn/ensemble/_bagging.py:638: RuntimeWarning: invalid value encountered in true_divide\n",
            "  predictions.sum(axis=1)[:, np.newaxis])\n",
            "/usr/local/lib/python3.6/dist-packages/sklearn/metrics/_classification.py:1272: UndefinedMetricWarning: Precision and F-score are ill-defined and being set to 0.0 in labels with no predicted samples. Use `zero_division` parameter to control this behavior.\n",
            "  _warn_prf(average, modifier, msg_start, len(result))\n"
          ],
          "name": "stderr"
        },
        {
          "output_type": "stream",
          "text": [
            "              precision    recall  f1-score   support\n",
            "\n",
            "     class 0       0.00      0.00      0.00        17\n",
            "     class 1       0.80      0.69      0.74     10009\n",
            "     class 2       0.49      0.37      0.42       465\n",
            "     class 3       0.49      0.21      0.29      1641\n",
            "     class 4       0.88      0.94      0.91     27842\n",
            "     class 5       0.71      0.75      0.73      7138\n",
            "     class 6       0.64      0.65      0.65      4494\n",
            "\n",
            "    accuracy                           0.81     51606\n",
            "   macro avg       0.57      0.52      0.53     51606\n",
            "weighted avg       0.80      0.81      0.80     51606\n",
            "\n"
          ],
          "name": "stdout"
        },
        {
          "output_type": "execute_result",
          "data": {
            "text/plain": [
              "0.8105065302484207"
            ]
          },
          "metadata": {
            "tags": []
          },
          "execution_count": 237
        }
      ]
    },
    {
      "cell_type": "code",
      "metadata": {
        "id": "jGt_o723Lq4e",
        "colab_type": "code",
        "colab": {}
      },
      "source": [
        ""
      ],
      "execution_count": 0,
      "outputs": []
    },
    {
      "cell_type": "code",
      "metadata": {
        "id": "FJ_xrCrqLq4j",
        "colab_type": "code",
        "colab": {}
      },
      "source": [
        "from sklearn.linear_model import LogisticRegression\n",
        "from sklearn.ensemble import ExtraTreesClassifier\n",
        "\n",
        "from sklearn.feature_selection import SelectFromModel\n",
        "extclf = ExtraTreesClassifier(n_estimators=100, random_state=7)\n",
        "\n",
        "# Set the regularization parameter C=1\n",
        "rf = RandomForestClassifier(n_estimators=100, random_state=7 )\n",
        "model = SelectFromModel(rf ,threshold ='median*1.25')\n",
        "\n",
        "\n",
        "X_new = model.fit(X_trainSDrIMinter2lblohemlogsqrt,y_train)\n"
      ],
      "execution_count": 0,
      "outputs": []
    },
    {
      "cell_type": "code",
      "metadata": {
        "id": "yKAUBkVv-xOd",
        "colab_type": "code",
        "outputId": "c3b496b8-54c2-4460-b742-c86d981f3b3d",
        "colab": {
          "base_uri": "https://localhost:8080/",
          "height": 323
        }
      },
      "source": [
        "embeded_rf_support = model.get_support()\n",
        "embeded_rf_feature = X_trainSDrIMinter2lblohemlogsqrt.loc[:,embeded_rf_support].columns.tolist()"
      ],
      "execution_count": 0,
      "outputs": [
        {
          "output_type": "error",
          "ename": "ValueError",
          "evalue": "ignored",
          "traceback": [
            "\u001b[0;31m---------------------------------------------------------------------------\u001b[0m",
            "\u001b[0;31mValueError\u001b[0m                                Traceback (most recent call last)",
            "\u001b[0;32m<ipython-input-254-c0016a360b1c>\u001b[0m in \u001b[0;36m<module>\u001b[0;34m()\u001b[0m\n\u001b[0;32m----> 1\u001b[0;31m \u001b[0membeded_rf_support\u001b[0m \u001b[0;34m=\u001b[0m \u001b[0mmodel\u001b[0m\u001b[0;34m.\u001b[0m\u001b[0mget_support\u001b[0m\u001b[0;34m(\u001b[0m\u001b[0;34m)\u001b[0m\u001b[0;34m\u001b[0m\u001b[0;34m\u001b[0m\u001b[0m\n\u001b[0m\u001b[1;32m      2\u001b[0m \u001b[0membeded_rf_feature\u001b[0m \u001b[0;34m=\u001b[0m \u001b[0mX_trainSDrIMinter2lblohemlogsqrt\u001b[0m\u001b[0;34m.\u001b[0m\u001b[0mloc\u001b[0m\u001b[0;34m[\u001b[0m\u001b[0;34m:\u001b[0m\u001b[0;34m,\u001b[0m\u001b[0membeded_rf_support\u001b[0m\u001b[0;34m]\u001b[0m\u001b[0;34m.\u001b[0m\u001b[0mcolumns\u001b[0m\u001b[0;34m.\u001b[0m\u001b[0mtolist\u001b[0m\u001b[0;34m(\u001b[0m\u001b[0;34m)\u001b[0m\u001b[0;34m\u001b[0m\u001b[0;34m\u001b[0m\u001b[0m\n",
            "\u001b[0;32m/usr/local/lib/python3.6/dist-packages/sklearn/feature_selection/_base.py\u001b[0m in \u001b[0;36mget_support\u001b[0;34m(self, indices)\u001b[0m\n\u001b[1;32m     44\u001b[0m             \u001b[0mvalues\u001b[0m \u001b[0mare\u001b[0m \u001b[0mindices\u001b[0m \u001b[0minto\u001b[0m \u001b[0mthe\u001b[0m \u001b[0minput\u001b[0m \u001b[0mfeature\u001b[0m \u001b[0mvector\u001b[0m\u001b[0;34m.\u001b[0m\u001b[0;34m\u001b[0m\u001b[0;34m\u001b[0m\u001b[0m\n\u001b[1;32m     45\u001b[0m         \"\"\"\n\u001b[0;32m---> 46\u001b[0;31m         \u001b[0mmask\u001b[0m \u001b[0;34m=\u001b[0m \u001b[0mself\u001b[0m\u001b[0;34m.\u001b[0m\u001b[0m_get_support_mask\u001b[0m\u001b[0;34m(\u001b[0m\u001b[0;34m)\u001b[0m\u001b[0;34m\u001b[0m\u001b[0;34m\u001b[0m\u001b[0m\n\u001b[0m\u001b[1;32m     47\u001b[0m         \u001b[0;32mreturn\u001b[0m \u001b[0mmask\u001b[0m \u001b[0;32mif\u001b[0m \u001b[0;32mnot\u001b[0m \u001b[0mindices\u001b[0m \u001b[0;32melse\u001b[0m \u001b[0mnp\u001b[0m\u001b[0;34m.\u001b[0m\u001b[0mwhere\u001b[0m\u001b[0;34m(\u001b[0m\u001b[0mmask\u001b[0m\u001b[0;34m)\u001b[0m\u001b[0;34m[\u001b[0m\u001b[0;36m0\u001b[0m\u001b[0;34m]\u001b[0m\u001b[0;34m\u001b[0m\u001b[0;34m\u001b[0m\u001b[0m\n\u001b[1;32m     48\u001b[0m \u001b[0;34m\u001b[0m\u001b[0m\n",
            "\u001b[0;32m/usr/local/lib/python3.6/dist-packages/sklearn/feature_selection/_from_model.py\u001b[0m in \u001b[0;36m_get_support_mask\u001b[0;34m(self)\u001b[0m\n\u001b[1;32m    177\u001b[0m                              ' estimator to the constructor.')\n\u001b[1;32m    178\u001b[0m         \u001b[0mscores\u001b[0m \u001b[0;34m=\u001b[0m \u001b[0m_get_feature_importances\u001b[0m\u001b[0;34m(\u001b[0m\u001b[0mestimator\u001b[0m\u001b[0;34m,\u001b[0m \u001b[0mself\u001b[0m\u001b[0;34m.\u001b[0m\u001b[0mnorm_order\u001b[0m\u001b[0;34m)\u001b[0m\u001b[0;34m\u001b[0m\u001b[0;34m\u001b[0m\u001b[0m\n\u001b[0;32m--> 179\u001b[0;31m         \u001b[0mthreshold\u001b[0m \u001b[0;34m=\u001b[0m \u001b[0m_calculate_threshold\u001b[0m\u001b[0;34m(\u001b[0m\u001b[0mestimator\u001b[0m\u001b[0;34m,\u001b[0m \u001b[0mscores\u001b[0m\u001b[0;34m,\u001b[0m \u001b[0mself\u001b[0m\u001b[0;34m.\u001b[0m\u001b[0mthreshold\u001b[0m\u001b[0;34m)\u001b[0m\u001b[0;34m\u001b[0m\u001b[0;34m\u001b[0m\u001b[0m\n\u001b[0m\u001b[1;32m    180\u001b[0m         \u001b[0;32mif\u001b[0m \u001b[0mself\u001b[0m\u001b[0;34m.\u001b[0m\u001b[0mmax_features\u001b[0m \u001b[0;32mis\u001b[0m \u001b[0;32mnot\u001b[0m \u001b[0;32mNone\u001b[0m\u001b[0;34m:\u001b[0m\u001b[0;34m\u001b[0m\u001b[0;34m\u001b[0m\u001b[0m\n\u001b[1;32m    181\u001b[0m             \u001b[0mmask\u001b[0m \u001b[0;34m=\u001b[0m \u001b[0mnp\u001b[0m\u001b[0;34m.\u001b[0m\u001b[0mzeros_like\u001b[0m\u001b[0;34m(\u001b[0m\u001b[0mscores\u001b[0m\u001b[0;34m,\u001b[0m \u001b[0mdtype\u001b[0m\u001b[0;34m=\u001b[0m\u001b[0mbool\u001b[0m\u001b[0;34m)\u001b[0m\u001b[0;34m\u001b[0m\u001b[0;34m\u001b[0m\u001b[0m\n",
            "\u001b[0;32m/usr/local/lib/python3.6/dist-packages/sklearn/feature_selection/_from_model.py\u001b[0m in \u001b[0;36m_calculate_threshold\u001b[0;34m(estimator, importances, threshold)\u001b[0m\n\u001b[1;32m     51\u001b[0m         \u001b[0;32mif\u001b[0m \u001b[0;34m\"*\"\u001b[0m \u001b[0;32min\u001b[0m \u001b[0mthreshold\u001b[0m\u001b[0;34m:\u001b[0m\u001b[0;34m\u001b[0m\u001b[0;34m\u001b[0m\u001b[0m\n\u001b[1;32m     52\u001b[0m             \u001b[0mscale\u001b[0m\u001b[0;34m,\u001b[0m \u001b[0mreference\u001b[0m \u001b[0;34m=\u001b[0m \u001b[0mthreshold\u001b[0m\u001b[0;34m.\u001b[0m\u001b[0msplit\u001b[0m\u001b[0;34m(\u001b[0m\u001b[0;34m\"*\"\u001b[0m\u001b[0;34m)\u001b[0m\u001b[0;34m\u001b[0m\u001b[0;34m\u001b[0m\u001b[0m\n\u001b[0;32m---> 53\u001b[0;31m             \u001b[0mscale\u001b[0m \u001b[0;34m=\u001b[0m \u001b[0mfloat\u001b[0m\u001b[0;34m(\u001b[0m\u001b[0mscale\u001b[0m\u001b[0;34m.\u001b[0m\u001b[0mstrip\u001b[0m\u001b[0;34m(\u001b[0m\u001b[0;34m)\u001b[0m\u001b[0;34m)\u001b[0m\u001b[0;34m\u001b[0m\u001b[0;34m\u001b[0m\u001b[0m\n\u001b[0m\u001b[1;32m     54\u001b[0m             \u001b[0mreference\u001b[0m \u001b[0;34m=\u001b[0m \u001b[0mreference\u001b[0m\u001b[0;34m.\u001b[0m\u001b[0mstrip\u001b[0m\u001b[0;34m(\u001b[0m\u001b[0;34m)\u001b[0m\u001b[0;34m\u001b[0m\u001b[0;34m\u001b[0m\u001b[0m\n\u001b[1;32m     55\u001b[0m \u001b[0;34m\u001b[0m\u001b[0m\n",
            "\u001b[0;31mValueError\u001b[0m: could not convert string to float: 'median'"
          ]
        }
      ]
    },
    {
      "cell_type": "code",
      "metadata": {
        "id": "34QVOYIz-xND",
        "colab_type": "code",
        "outputId": "a2bccc32-d8c7-42e3-b4ea-a85cca67527f",
        "colab": {
          "base_uri": "https://localhost:8080/",
          "height": 34
        }
      },
      "source": [
        "len(embeded_rf_feature)"
      ],
      "execution_count": 0,
      "outputs": [
        {
          "output_type": "execute_result",
          "data": {
            "text/plain": [
              "49"
            ]
          },
          "metadata": {
            "tags": []
          },
          "execution_count": 255
        }
      ]
    },
    {
      "cell_type": "code",
      "metadata": {
        "id": "9ofeg0bW-xKv",
        "colab_type": "code",
        "colab": {}
      },
      "source": [
        "from lightgbm import LGBMClassifier\n",
        "\n",
        "lgbc=LGBMClassifier(n_estimators=500, learning_rate=0.05, num_leaves=32, colsample_bytree=0.2,\n",
        "            reg_alpha=3, reg_lambda=1, min_split_gain=0.01, min_child_weight=40)\n",
        "\n",
        "model = SelectFromModel(lgbc,threshold = '1.25*median')\n",
        "\n",
        "X_new = model.fit(X_trainSDrIMinter2lblohemlogsqrt,y_train)\n",
        "\n",
        "lgbc_rf_support = model.get_support()\n",
        "lgbc_rf_feature = X_trainSDrIMinter2lblohemlogsqrt.loc[:,lgbc_rf_support].columns.tolist()"
      ],
      "execution_count": 0,
      "outputs": []
    },
    {
      "cell_type": "code",
      "metadata": {
        "id": "y881yYYa5VfJ",
        "colab_type": "code",
        "outputId": "cc73136b-5c5b-4d4a-f587-6a52a62b16e5",
        "colab": {
          "base_uri": "https://localhost:8080/",
          "height": 34
        }
      },
      "source": [
        "len(lgbc_rf_feature)"
      ],
      "execution_count": 0,
      "outputs": [
        {
          "output_type": "execute_result",
          "data": {
            "text/plain": [
              "75"
            ]
          },
          "metadata": {
            "tags": []
          },
          "execution_count": 252
        }
      ]
    },
    {
      "cell_type": "code",
      "metadata": {
        "id": "Ynxz4uK9BEZ2",
        "colab_type": "code",
        "colab": {}
      },
      "source": [
        "def cor_selector(X, y):\n",
        "    cor_list = []\n",
        "    feature_name = X.columns.tolist()\n",
        "\n",
        "    # calculate the correlation with y for each feature\n",
        "    for i in X.columns.tolist():\n",
        "        cor = np.corrcoef(X[i], y)[0, 1]\n",
        "        cor_list.append(cor)\n",
        "    # replace NaN with 0\n",
        "    cor_list = [0 if np.isnan(i) else i for i in cor_list]\n",
        "    # feature name\n",
        "    cor_feature = X.iloc[:,np.argsort(np.abs(cor_list))[-100:]].columns.tolist()\n",
        "    # feature selection? 0 for not select, 1 for select\n",
        "    cor_support = [True if i in cor_feature else False for i in feature_name]\n",
        "    return cor_support, cor_feature"
      ],
      "execution_count": 0,
      "outputs": []
    },
    {
      "cell_type": "code",
      "metadata": {
        "id": "IRcEgXblByrQ",
        "colab_type": "code",
        "outputId": "725303e7-0ffc-42db-c725-c32faab22eed",
        "colab": {
          "base_uri": "https://localhost:8080/",
          "height": 85
        }
      },
      "source": [
        "cor_support, cor_feature = cor_selector(X_trainSDrIMinter2lblohemlogsqrt, y_train)\n"
      ],
      "execution_count": 0,
      "outputs": [
        {
          "output_type": "stream",
          "text": [
            "/usr/local/lib/python3.6/dist-packages/numpy/lib/function_base.py:2534: RuntimeWarning: invalid value encountered in true_divide\n",
            "  c /= stddev[:, None]\n",
            "/usr/local/lib/python3.6/dist-packages/numpy/lib/function_base.py:2535: RuntimeWarning: invalid value encountered in true_divide\n",
            "  c /= stddev[None, :]\n"
          ],
          "name": "stderr"
        }
      ]
    },
    {
      "cell_type": "code",
      "metadata": {
        "id": "o4neeXxICOQn",
        "colab_type": "code",
        "colab": {}
      },
      "source": [
        "from sklearn.feature_selection import SelectKBest\n"
      ],
      "execution_count": 0,
      "outputs": []
    },
    {
      "cell_type": "code",
      "metadata": {
        "id": "b9c5zLcaB718",
        "colab_type": "code",
        "outputId": "595c03b4-2ecc-45c3-aa94-4688976205fd",
        "colab": {
          "base_uri": "https://localhost:8080/",
          "height": 34
        }
      },
      "source": [
        "from sklearn.feature_selection import chi2\n",
        "from sklearn.preprocessing import MinMaxScaler\n",
        "X_norm = MinMaxScaler().fit_transform(X_trainSDrIMinter2lblohemlogsqrt)\n",
        "chi_selector = SelectKBest(chi2, k=80)\n",
        "chi_selector.fit(X_norm, y_train)\n"
      ],
      "execution_count": 0,
      "outputs": [
        {
          "output_type": "execute_result",
          "data": {
            "text/plain": [
              "SelectKBest(k=80, score_func=<function chi2 at 0x7f93b09ebf28>)"
            ]
          },
          "metadata": {
            "tags": []
          },
          "execution_count": 265
        }
      ]
    },
    {
      "cell_type": "code",
      "metadata": {
        "id": "L6RENltJCh1S",
        "colab_type": "code",
        "outputId": "55b1c536-825b-41e9-fb52-7ce58fdfae99",
        "colab": {
          "base_uri": "https://localhost:8080/",
          "height": 340
        }
      },
      "source": [
        "chi_support = chi_selector.get_support()\n",
        "chi_feature = X.loc[:,chi_support].columns.tolist()\n",
        "print(str(len(chi_feature)), 'selected features')"
      ],
      "execution_count": 0,
      "outputs": [
        {
          "output_type": "error",
          "ename": "IndexError",
          "evalue": "ignored",
          "traceback": [
            "\u001b[0;31m---------------------------------------------------------------------------\u001b[0m",
            "\u001b[0;31mIndexError\u001b[0m                                Traceback (most recent call last)",
            "\u001b[0;32m<ipython-input-266-5ee3c482d47a>\u001b[0m in \u001b[0;36m<module>\u001b[0;34m()\u001b[0m\n\u001b[1;32m      1\u001b[0m \u001b[0mchi_support\u001b[0m \u001b[0;34m=\u001b[0m \u001b[0mchi_selector\u001b[0m\u001b[0;34m.\u001b[0m\u001b[0mget_support\u001b[0m\u001b[0;34m(\u001b[0m\u001b[0;34m)\u001b[0m\u001b[0;34m\u001b[0m\u001b[0;34m\u001b[0m\u001b[0m\n\u001b[0;32m----> 2\u001b[0;31m \u001b[0mchi_feature\u001b[0m \u001b[0;34m=\u001b[0m \u001b[0mX\u001b[0m\u001b[0;34m.\u001b[0m\u001b[0mloc\u001b[0m\u001b[0;34m[\u001b[0m\u001b[0;34m:\u001b[0m\u001b[0;34m,\u001b[0m\u001b[0mchi_support\u001b[0m\u001b[0;34m]\u001b[0m\u001b[0;34m.\u001b[0m\u001b[0mcolumns\u001b[0m\u001b[0;34m.\u001b[0m\u001b[0mtolist\u001b[0m\u001b[0;34m(\u001b[0m\u001b[0;34m)\u001b[0m\u001b[0;34m\u001b[0m\u001b[0;34m\u001b[0m\u001b[0m\n\u001b[0m\u001b[1;32m      3\u001b[0m \u001b[0mprint\u001b[0m\u001b[0;34m(\u001b[0m\u001b[0mstr\u001b[0m\u001b[0;34m(\u001b[0m\u001b[0mlen\u001b[0m\u001b[0;34m(\u001b[0m\u001b[0mchi_feature\u001b[0m\u001b[0;34m)\u001b[0m\u001b[0;34m)\u001b[0m\u001b[0;34m,\u001b[0m \u001b[0;34m'selected features'\u001b[0m\u001b[0;34m)\u001b[0m\u001b[0;34m\u001b[0m\u001b[0;34m\u001b[0m\u001b[0m\n",
            "\u001b[0;32m/usr/local/lib/python3.6/dist-packages/pandas/core/indexing.py\u001b[0m in \u001b[0;36m__getitem__\u001b[0;34m(self, key)\u001b[0m\n\u001b[1;32m   1416\u001b[0m                 \u001b[0;32mexcept\u001b[0m \u001b[0;34m(\u001b[0m\u001b[0mKeyError\u001b[0m\u001b[0;34m,\u001b[0m \u001b[0mIndexError\u001b[0m\u001b[0;34m,\u001b[0m \u001b[0mAttributeError\u001b[0m\u001b[0;34m)\u001b[0m\u001b[0;34m:\u001b[0m\u001b[0;34m\u001b[0m\u001b[0;34m\u001b[0m\u001b[0m\n\u001b[1;32m   1417\u001b[0m                     \u001b[0;32mpass\u001b[0m\u001b[0;34m\u001b[0m\u001b[0;34m\u001b[0m\u001b[0m\n\u001b[0;32m-> 1418\u001b[0;31m             \u001b[0;32mreturn\u001b[0m \u001b[0mself\u001b[0m\u001b[0;34m.\u001b[0m\u001b[0m_getitem_tuple\u001b[0m\u001b[0;34m(\u001b[0m\u001b[0mkey\u001b[0m\u001b[0;34m)\u001b[0m\u001b[0;34m\u001b[0m\u001b[0;34m\u001b[0m\u001b[0m\n\u001b[0m\u001b[1;32m   1419\u001b[0m         \u001b[0;32melse\u001b[0m\u001b[0;34m:\u001b[0m\u001b[0;34m\u001b[0m\u001b[0;34m\u001b[0m\u001b[0m\n\u001b[1;32m   1420\u001b[0m             \u001b[0;31m# we by definition only have the 0th axis\u001b[0m\u001b[0;34m\u001b[0m\u001b[0;34m\u001b[0m\u001b[0;34m\u001b[0m\u001b[0m\n",
            "\u001b[0;32m/usr/local/lib/python3.6/dist-packages/pandas/core/indexing.py\u001b[0m in \u001b[0;36m_getitem_tuple\u001b[0;34m(self, tup)\u001b[0m\n\u001b[1;32m    820\u001b[0m                 \u001b[0;32mcontinue\u001b[0m\u001b[0;34m\u001b[0m\u001b[0;34m\u001b[0m\u001b[0m\n\u001b[1;32m    821\u001b[0m \u001b[0;34m\u001b[0m\u001b[0m\n\u001b[0;32m--> 822\u001b[0;31m             \u001b[0mretval\u001b[0m \u001b[0;34m=\u001b[0m \u001b[0mgetattr\u001b[0m\u001b[0;34m(\u001b[0m\u001b[0mretval\u001b[0m\u001b[0;34m,\u001b[0m \u001b[0mself\u001b[0m\u001b[0;34m.\u001b[0m\u001b[0mname\u001b[0m\u001b[0;34m)\u001b[0m\u001b[0;34m.\u001b[0m\u001b[0m_getitem_axis\u001b[0m\u001b[0;34m(\u001b[0m\u001b[0mkey\u001b[0m\u001b[0;34m,\u001b[0m \u001b[0maxis\u001b[0m\u001b[0;34m=\u001b[0m\u001b[0mi\u001b[0m\u001b[0;34m)\u001b[0m\u001b[0;34m\u001b[0m\u001b[0;34m\u001b[0m\u001b[0m\n\u001b[0m\u001b[1;32m    823\u001b[0m \u001b[0;34m\u001b[0m\u001b[0m\n\u001b[1;32m    824\u001b[0m         \u001b[0;32mreturn\u001b[0m \u001b[0mretval\u001b[0m\u001b[0;34m\u001b[0m\u001b[0;34m\u001b[0m\u001b[0m\n",
            "\u001b[0;32m/usr/local/lib/python3.6/dist-packages/pandas/core/indexing.py\u001b[0m in \u001b[0;36m_getitem_axis\u001b[0;34m(self, key, axis)\u001b[0m\n\u001b[1;32m   1797\u001b[0m             \u001b[0;32mreturn\u001b[0m \u001b[0mself\u001b[0m\u001b[0;34m.\u001b[0m\u001b[0m_get_slice_axis\u001b[0m\u001b[0;34m(\u001b[0m\u001b[0mkey\u001b[0m\u001b[0;34m,\u001b[0m \u001b[0maxis\u001b[0m\u001b[0;34m=\u001b[0m\u001b[0maxis\u001b[0m\u001b[0;34m)\u001b[0m\u001b[0;34m\u001b[0m\u001b[0;34m\u001b[0m\u001b[0m\n\u001b[1;32m   1798\u001b[0m         \u001b[0;32melif\u001b[0m \u001b[0mcom\u001b[0m\u001b[0;34m.\u001b[0m\u001b[0mis_bool_indexer\u001b[0m\u001b[0;34m(\u001b[0m\u001b[0mkey\u001b[0m\u001b[0;34m)\u001b[0m\u001b[0;34m:\u001b[0m\u001b[0;34m\u001b[0m\u001b[0;34m\u001b[0m\u001b[0m\n\u001b[0;32m-> 1799\u001b[0;31m             \u001b[0;32mreturn\u001b[0m \u001b[0mself\u001b[0m\u001b[0;34m.\u001b[0m\u001b[0m_getbool_axis\u001b[0m\u001b[0;34m(\u001b[0m\u001b[0mkey\u001b[0m\u001b[0;34m,\u001b[0m \u001b[0maxis\u001b[0m\u001b[0;34m=\u001b[0m\u001b[0maxis\u001b[0m\u001b[0;34m)\u001b[0m\u001b[0;34m\u001b[0m\u001b[0;34m\u001b[0m\u001b[0m\n\u001b[0m\u001b[1;32m   1800\u001b[0m         \u001b[0;32melif\u001b[0m \u001b[0mis_list_like_indexer\u001b[0m\u001b[0;34m(\u001b[0m\u001b[0mkey\u001b[0m\u001b[0;34m)\u001b[0m\u001b[0;34m:\u001b[0m\u001b[0;34m\u001b[0m\u001b[0;34m\u001b[0m\u001b[0m\n\u001b[1;32m   1801\u001b[0m \u001b[0;34m\u001b[0m\u001b[0m\n",
            "\u001b[0;32m/usr/local/lib/python3.6/dist-packages/pandas/core/indexing.py\u001b[0m in \u001b[0;36m_getbool_axis\u001b[0;34m(self, key, axis)\u001b[0m\n\u001b[1;32m   1436\u001b[0m         \u001b[0;31m# caller is responsible for ensuring non-None axis\u001b[0m\u001b[0;34m\u001b[0m\u001b[0;34m\u001b[0m\u001b[0;34m\u001b[0m\u001b[0m\n\u001b[1;32m   1437\u001b[0m         \u001b[0mlabels\u001b[0m \u001b[0;34m=\u001b[0m \u001b[0mself\u001b[0m\u001b[0;34m.\u001b[0m\u001b[0mobj\u001b[0m\u001b[0;34m.\u001b[0m\u001b[0m_get_axis\u001b[0m\u001b[0;34m(\u001b[0m\u001b[0maxis\u001b[0m\u001b[0;34m)\u001b[0m\u001b[0;34m\u001b[0m\u001b[0;34m\u001b[0m\u001b[0m\n\u001b[0;32m-> 1438\u001b[0;31m         \u001b[0mkey\u001b[0m \u001b[0;34m=\u001b[0m \u001b[0mcheck_bool_indexer\u001b[0m\u001b[0;34m(\u001b[0m\u001b[0mlabels\u001b[0m\u001b[0;34m,\u001b[0m \u001b[0mkey\u001b[0m\u001b[0;34m)\u001b[0m\u001b[0;34m\u001b[0m\u001b[0;34m\u001b[0m\u001b[0m\n\u001b[0m\u001b[1;32m   1439\u001b[0m         \u001b[0minds\u001b[0m\u001b[0;34m,\u001b[0m \u001b[0;34m=\u001b[0m \u001b[0mkey\u001b[0m\u001b[0;34m.\u001b[0m\u001b[0mnonzero\u001b[0m\u001b[0;34m(\u001b[0m\u001b[0;34m)\u001b[0m\u001b[0;34m\u001b[0m\u001b[0;34m\u001b[0m\u001b[0m\n\u001b[1;32m   1440\u001b[0m         \u001b[0;32mtry\u001b[0m\u001b[0;34m:\u001b[0m\u001b[0;34m\u001b[0m\u001b[0;34m\u001b[0m\u001b[0m\n",
            "\u001b[0;32m/usr/local/lib/python3.6/dist-packages/pandas/core/indexing.py\u001b[0m in \u001b[0;36mcheck_bool_indexer\u001b[0;34m(index, key)\u001b[0m\n\u001b[1;32m   2422\u001b[0m         \u001b[0;32mif\u001b[0m \u001b[0mlen\u001b[0m\u001b[0;34m(\u001b[0m\u001b[0mresult\u001b[0m\u001b[0;34m)\u001b[0m \u001b[0;34m!=\u001b[0m \u001b[0mlen\u001b[0m\u001b[0;34m(\u001b[0m\u001b[0mindex\u001b[0m\u001b[0;34m)\u001b[0m\u001b[0;34m:\u001b[0m\u001b[0;34m\u001b[0m\u001b[0;34m\u001b[0m\u001b[0m\n\u001b[1;32m   2423\u001b[0m             raise IndexError(\n\u001b[0;32m-> 2424\u001b[0;31m                 \u001b[0;34m\"Item wrong length {} instead of {}.\"\u001b[0m\u001b[0;34m.\u001b[0m\u001b[0mformat\u001b[0m\u001b[0;34m(\u001b[0m\u001b[0mlen\u001b[0m\u001b[0;34m(\u001b[0m\u001b[0mresult\u001b[0m\u001b[0;34m)\u001b[0m\u001b[0;34m,\u001b[0m \u001b[0mlen\u001b[0m\u001b[0;34m(\u001b[0m\u001b[0mindex\u001b[0m\u001b[0;34m)\u001b[0m\u001b[0;34m)\u001b[0m\u001b[0;34m\u001b[0m\u001b[0;34m\u001b[0m\u001b[0m\n\u001b[0m\u001b[1;32m   2425\u001b[0m             )\n\u001b[1;32m   2426\u001b[0m \u001b[0;34m\u001b[0m\u001b[0m\n",
            "\u001b[0;31mIndexError\u001b[0m: Item wrong length 152 instead of 14."
          ]
        }
      ]
    },
    {
      "cell_type": "code",
      "metadata": {
        "id": "aQ_xY60nCrxu",
        "colab_type": "code",
        "colab": {}
      },
      "source": [
        ""
      ],
      "execution_count": 0,
      "outputs": []
    },
    {
      "cell_type": "code",
      "metadata": {
        "id": "fnYKllqPCwTN",
        "colab_type": "code",
        "colab": {}
      },
      "source": [
        "from sklearn.feature_selection import RFE\n",
        "from sklearn.linear_model import LogisticRegression\n",
        "rfe_selector = RFE(estimator=LogisticRegression(), n_features_to_select=100, step=10, verbose=5)\n",
        "rfe_selector.fit(X_norm, y)"
      ],
      "execution_count": 0,
      "outputs": []
    },
    {
      "cell_type": "code",
      "metadata": {
        "id": "D-KHPG8PCwbY",
        "colab_type": "code",
        "colab": {}
      },
      "source": [
        "mbeded_lr_support = embeded_lr_selector.get_support()\n",
        "embeded_lr_feature = X.loc[:,embeded_lr_support].columns.tolist()\n",
        "print(str(len(embeded_lr_feature)), 'selected features')"
      ],
      "execution_count": 0,
      "outputs": []
    },
    {
      "cell_type": "code",
      "metadata": {
        "id": "tY-mjrFUDO3L",
        "colab_type": "code",
        "colab": {}
      },
      "source": [
        ""
      ],
      "execution_count": 0,
      "outputs": []
    },
    {
      "cell_type": "code",
      "metadata": {
        "id": "_eFswM8aDO5w",
        "colab_type": "code",
        "colab": {}
      },
      "source": [
        ""
      ],
      "execution_count": 0,
      "outputs": []
    },
    {
      "cell_type": "code",
      "metadata": {
        "id": "xt-Op3_XDPCI",
        "colab_type": "code",
        "colab": {}
      },
      "source": [
        ""
      ],
      "execution_count": 0,
      "outputs": []
    }
  ]
}