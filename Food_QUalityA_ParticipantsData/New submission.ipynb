{
 "cells": [
  {
   "cell_type": "code",
   "execution_count": 1,
   "metadata": {},
   "outputs": [],
   "source": [
    "import numpy as np\n",
    "import pandas as pd\n",
    "import re\n",
    "#import xgboost as xgb\n",
    "import seaborn as sns\n",
    "import matplotlib.pyplot as plt\n",
    "%matplotlib inline\n",
    "\n",
    "#import plotly.offline as py\n",
    "#py.init_notebook_mode(connected=True)\n",
    "#import plotly.graph_objs as go\n",
    "#import plotly.tools as tls\n",
    "\n",
    "from sklearn import tree\n",
    "from sklearn.metrics import accuracy_score\n",
    "from sklearn.model_selection import KFold\n",
    "from sklearn.model_selection import cross_val_score\n",
    "from IPython.display import Image as PImage\n",
    "from subprocess import check_call\n",
    "from PIL import Image, ImageDraw, ImageFont\n",
    "import pandas as pd\n",
    "import numpy as np\n",
    "import matplotlib.pyplot as plt\n",
    "#import seaborn as sns\n",
    "%matplotlib inline \n",
    "from sklearn.preprocessing import MinMaxScaler\n",
    "from sklearn.model_selection import train_test_split\n",
    "from collections import Counter\n",
    "from imblearn.over_sampling import RandomOverSampler\n",
    "from imblearn.under_sampling import RandomUnderSampler\n",
    "from imblearn.over_sampling import SMOTE, ADASYN\n",
    "from imblearn.over_sampling import BorderlineSMOTE\n",
    "from imblearn.over_sampling import SMOTENC\n",
    "from imblearn.combine import SMOTETomek\n",
    "from imblearn.under_sampling import ClusterCentroids\n",
    "import pandas as pd\n",
    "import numpy as np\n",
    "from sklearn.model_selection import train_test_split\n",
    "from sklearn.tree import DecisionTreeClassifier\n",
    "from sklearn.ensemble import RandomForestClassifier\n",
    "from sklearn import linear_model\n",
    "from sklearn.linear_model import LogisticRegression\n",
    "from sklearn.linear_model import Perceptron\n",
    "from sklearn.linear_model import SGDClassifier\n",
    "from sklearn.neighbors import KNeighborsClassifier\n",
    "from sklearn.svm import SVC, LinearSVC\n",
    "import xgboost as xgb\n",
    "from sklearn.naive_bayes import GaussianNB\n",
    "from xgboost import XGBClassifier\n",
    "from mlxtend.classifier import StackingClassifier\n",
    "from sklearn.metrics import accuracy_score\n",
    "from sklearn.ensemble import BaggingClassifier\n",
    "import matplotlib as plt\n",
    "from random import randint\n",
    "import warnings\n",
    "warnings.filterwarnings('ignore')\n",
    "import numpy as np\n",
    "import pandas as pd\n",
    "from datetime import datetime\n",
    "from sklearn.model_selection import RandomizedSearchCV, GridSearchCV\n",
    "from sklearn.metrics import roc_auc_score\n",
    "from sklearn.model_selection import StratifiedKFold\n",
    "from xgboost import XGBClassifier"
   ]
  },
  {
   "cell_type": "code",
   "execution_count": 2,
   "metadata": {},
   "outputs": [],
   "source": [
    "zf = pd.read_excel('/home/ryan/MachineHack/Food_QUalityA_ParticipantsData/Data_Train.xlsx')\n",
    "#test= pd.read_excel('/home/ryan/MachineHack/Food_QUalityA_ParticipantsData/Data_Test.xlsx')"
   ]
  },
  {
   "cell_type": "code",
   "execution_count": null,
   "metadata": {},
   "outputs": [],
   "source": [
    "test= pd.read_excel('/home/ryan/MachineHack/Food_QUalityA_ParticipantsData/Data_Test.xlsx')"
   ]
  },
  {
   "cell_type": "code",
   "execution_count": 3,
   "metadata": {},
   "outputs": [
    {
     "data": {
      "text/plain": [
       "True"
      ]
     },
     "execution_count": 3,
     "metadata": {},
     "output_type": "execute_result"
    }
   ],
   "source": [
    "zf['LicenseNo'].duplicated().any()\n",
    "#test['LicenseNo'].duplicated().any()"
   ]
  },
  {
   "cell_type": "code",
   "execution_count": null,
   "metadata": {},
   "outputs": [],
   "source": []
  },
  {
   "cell_type": "code",
   "execution_count": null,
   "metadata": {},
   "outputs": [],
   "source": []
  },
  {
   "cell_type": "code",
   "execution_count": 4,
   "metadata": {},
   "outputs": [],
   "source": [
    "cols_to_drop = [\n",
    "    'Date',\n",
    "    'ID'\n",
    "    ]\n",
    "\n",
    "zf = zf.drop(cols_to_drop, axis=1)\n"
   ]
  },
  {
   "cell_type": "code",
   "execution_count": null,
   "metadata": {},
   "outputs": [],
   "source": [
    "test = zf.drop(cols_to_drop, axis=1)"
   ]
  },
  {
   "cell_type": "code",
   "execution_count": null,
   "metadata": {},
   "outputs": [],
   "source": [
    "test.head(3)"
   ]
  },
  {
   "cell_type": "code",
   "execution_count": 5,
   "metadata": {},
   "outputs": [
    {
     "data": {
      "text/html": [
       "<div>\n",
       "<style scoped>\n",
       "    .dataframe tbody tr th:only-of-type {\n",
       "        vertical-align: middle;\n",
       "    }\n",
       "\n",
       "    .dataframe tbody tr th {\n",
       "        vertical-align: top;\n",
       "    }\n",
       "\n",
       "    .dataframe thead th {\n",
       "        text-align: right;\n",
       "    }\n",
       "</style>\n",
       "<table border=\"1\" class=\"dataframe\">\n",
       "  <thead>\n",
       "    <tr style=\"text-align: right;\">\n",
       "      <th></th>\n",
       "      <th>LicenseNo</th>\n",
       "      <th>FacilityID</th>\n",
       "      <th>FacilityName</th>\n",
       "      <th>Type</th>\n",
       "      <th>Street</th>\n",
       "      <th>City</th>\n",
       "      <th>State</th>\n",
       "      <th>LocationID</th>\n",
       "      <th>Reason</th>\n",
       "      <th>SectionViolations</th>\n",
       "      <th>RiskLevel</th>\n",
       "      <th>Geo_Loc</th>\n",
       "      <th>Inspection_Results</th>\n",
       "    </tr>\n",
       "  </thead>\n",
       "  <tbody>\n",
       "    <tr>\n",
       "      <th>0</th>\n",
       "      <td>4744</td>\n",
       "      <td>8123</td>\n",
       "      <td>7715</td>\n",
       "      <td>RESTAURANT</td>\n",
       "      <td>15522</td>\n",
       "      <td>id-11235901</td>\n",
       "      <td>id_1890134</td>\n",
       "      <td>81876.0</td>\n",
       "      <td>CANVASS</td>\n",
       "      <td>33.0</td>\n",
       "      <td>High</td>\n",
       "      <td>locid16406</td>\n",
       "      <td>4</td>\n",
       "    </tr>\n",
       "    <tr>\n",
       "      <th>1</th>\n",
       "      <td>2973</td>\n",
       "      <td>12268</td>\n",
       "      <td>11664</td>\n",
       "      <td>GROCERY STORE</td>\n",
       "      <td>3057</td>\n",
       "      <td>id-11235901</td>\n",
       "      <td>id_1890134</td>\n",
       "      <td>81862.0</td>\n",
       "      <td>COMPLAINT</td>\n",
       "      <td>33.0</td>\n",
       "      <td>High</td>\n",
       "      <td>locid878</td>\n",
       "      <td>4</td>\n",
       "    </tr>\n",
       "    <tr>\n",
       "      <th>2</th>\n",
       "      <td>18223</td>\n",
       "      <td>1112</td>\n",
       "      <td>969</td>\n",
       "      <td>RESTAURANT</td>\n",
       "      <td>14988</td>\n",
       "      <td>id-11235901</td>\n",
       "      <td>id_1890134</td>\n",
       "      <td>81883.0</td>\n",
       "      <td>CANVASS</td>\n",
       "      <td>NaN</td>\n",
       "      <td>High</td>\n",
       "      <td>locid3368</td>\n",
       "      <td>6</td>\n",
       "    </tr>\n",
       "  </tbody>\n",
       "</table>\n",
       "</div>"
      ],
      "text/plain": [
       "   LicenseNo  FacilityID  FacilityName           Type  Street         City  \\\n",
       "0       4744        8123          7715     RESTAURANT   15522  id-11235901   \n",
       "1       2973       12268         11664  GROCERY STORE    3057  id-11235901   \n",
       "2      18223        1112           969     RESTAURANT   14988  id-11235901   \n",
       "\n",
       "        State  LocationID     Reason  SectionViolations RiskLevel     Geo_Loc  \\\n",
       "0  id_1890134     81876.0    CANVASS               33.0      High  locid16406   \n",
       "1  id_1890134     81862.0  COMPLAINT               33.0      High    locid878   \n",
       "2  id_1890134     81883.0    CANVASS                NaN      High   locid3368   \n",
       "\n",
       "   Inspection_Results  \n",
       "0                   4  \n",
       "1                   4  \n",
       "2                   6  "
      ]
     },
     "execution_count": 5,
     "metadata": {},
     "output_type": "execute_result"
    }
   ],
   "source": [
    "zf.head(3)"
   ]
  },
  {
   "cell_type": "code",
   "execution_count": 6,
   "metadata": {},
   "outputs": [
    {
     "data": {
      "text/html": [
       "<div>\n",
       "<style scoped>\n",
       "    .dataframe tbody tr th:only-of-type {\n",
       "        vertical-align: middle;\n",
       "    }\n",
       "\n",
       "    .dataframe tbody tr th {\n",
       "        vertical-align: top;\n",
       "    }\n",
       "\n",
       "    .dataframe thead th {\n",
       "        text-align: right;\n",
       "    }\n",
       "</style>\n",
       "<table border=\"1\" class=\"dataframe\">\n",
       "  <thead>\n",
       "    <tr style=\"text-align: right;\">\n",
       "      <th></th>\n",
       "      <th>Total</th>\n",
       "      <th>%</th>\n",
       "    </tr>\n",
       "  </thead>\n",
       "  <tbody>\n",
       "    <tr>\n",
       "      <th>City</th>\n",
       "      <td>0</td>\n",
       "      <td>0.0</td>\n",
       "    </tr>\n",
       "    <tr>\n",
       "      <th>FacilityID</th>\n",
       "      <td>0</td>\n",
       "      <td>0.0</td>\n",
       "    </tr>\n",
       "    <tr>\n",
       "      <th>FacilityName</th>\n",
       "      <td>0</td>\n",
       "      <td>0.0</td>\n",
       "    </tr>\n",
       "    <tr>\n",
       "      <th>Geo_Loc</th>\n",
       "      <td>0</td>\n",
       "      <td>0.0</td>\n",
       "    </tr>\n",
       "    <tr>\n",
       "      <th>Inspection_Results</th>\n",
       "      <td>0</td>\n",
       "      <td>0.0</td>\n",
       "    </tr>\n",
       "    <tr>\n",
       "      <th>LicenseNo</th>\n",
       "      <td>0</td>\n",
       "      <td>0.0</td>\n",
       "    </tr>\n",
       "    <tr>\n",
       "      <th>LocationID</th>\n",
       "      <td>35</td>\n",
       "      <td>0.0</td>\n",
       "    </tr>\n",
       "    <tr>\n",
       "      <th>Reason</th>\n",
       "      <td>0</td>\n",
       "      <td>0.0</td>\n",
       "    </tr>\n",
       "    <tr>\n",
       "      <th>RiskLevel</th>\n",
       "      <td>0</td>\n",
       "      <td>0.0</td>\n",
       "    </tr>\n",
       "    <tr>\n",
       "      <th>SectionViolations</th>\n",
       "      <td>39068</td>\n",
       "      <td>26.5</td>\n",
       "    </tr>\n",
       "    <tr>\n",
       "      <th>State</th>\n",
       "      <td>0</td>\n",
       "      <td>0.0</td>\n",
       "    </tr>\n",
       "    <tr>\n",
       "      <th>Street</th>\n",
       "      <td>0</td>\n",
       "      <td>0.0</td>\n",
       "    </tr>\n",
       "    <tr>\n",
       "      <th>Type</th>\n",
       "      <td>3485</td>\n",
       "      <td>2.4</td>\n",
       "    </tr>\n",
       "  </tbody>\n",
       "</table>\n",
       "</div>"
      ],
      "text/plain": [
       "                    Total     %\n",
       "City                    0   0.0\n",
       "FacilityID              0   0.0\n",
       "FacilityName            0   0.0\n",
       "Geo_Loc                 0   0.0\n",
       "Inspection_Results      0   0.0\n",
       "LicenseNo               0   0.0\n",
       "LocationID             35   0.0\n",
       "Reason                  0   0.0\n",
       "RiskLevel               0   0.0\n",
       "SectionViolations   39068  26.5\n",
       "State                   0   0.0\n",
       "Street                  0   0.0\n",
       "Type                 3485   2.4"
      ]
     },
     "execution_count": 6,
     "metadata": {},
     "output_type": "execute_result"
    }
   ],
   "source": [
    "total = zf.isnull().sum().sort_values(ascending=False)\n",
    "percent_1 = zf.isnull().sum()/zf.isnull().count()*100\n",
    "percent_2 = (np.round(percent_1, 1)).sort_values(ascending=False)\n",
    "missing_data = pd.concat([total, percent_2], axis=1, keys=['Total', '%']) #ptr\n",
    "missing_data"
   ]
  },
  {
   "cell_type": "code",
   "execution_count": null,
   "metadata": {},
   "outputs": [],
   "source": [
    "total = test.isnull().sum().sort_values(ascending=False)\n",
    "percent_1 = test.isnull().sum()/test.isnull().count()*100\n",
    "percent_2 = (np.round(percent_1, 1)).sort_values(ascending=False)\n",
    "missing_data = pd.concat([total, percent_2], axis=1, keys=['Total', '%']) #ptr\n",
    "missing_data"
   ]
  },
  {
   "cell_type": "code",
   "execution_count": 7,
   "metadata": {},
   "outputs": [],
   "source": [
    "# from sklearn.impute import SimpleImputer\n",
    "# imp = SimpleImputer(strategy='most_frequent')\n",
    "# df = imp.fit_transform(zf)\n"
   ]
  },
  {
   "cell_type": "code",
   "execution_count": null,
   "metadata": {},
   "outputs": [],
   "source": [
    "from sklearn.impute import SimpleImputer\n",
    "imp = SimpleImputer(strategy='most_frequent')\n",
    "df = imp.fit_transform(zf)\n"
   ]
  },
  {
   "cell_type": "code",
   "execution_count": 8,
   "metadata": {},
   "outputs": [],
   "source": [
    "dataframe = pd.DataFrame.from_records(df)"
   ]
  },
  {
   "cell_type": "code",
   "execution_count": 9,
   "metadata": {},
   "outputs": [
    {
     "data": {
      "text/html": [
       "<div>\n",
       "<style scoped>\n",
       "    .dataframe tbody tr th:only-of-type {\n",
       "        vertical-align: middle;\n",
       "    }\n",
       "\n",
       "    .dataframe tbody tr th {\n",
       "        vertical-align: top;\n",
       "    }\n",
       "\n",
       "    .dataframe thead th {\n",
       "        text-align: right;\n",
       "    }\n",
       "</style>\n",
       "<table border=\"1\" class=\"dataframe\">\n",
       "  <thead>\n",
       "    <tr style=\"text-align: right;\">\n",
       "      <th></th>\n",
       "      <th>0</th>\n",
       "      <th>1</th>\n",
       "      <th>2</th>\n",
       "      <th>3</th>\n",
       "      <th>4</th>\n",
       "      <th>5</th>\n",
       "      <th>6</th>\n",
       "      <th>7</th>\n",
       "      <th>8</th>\n",
       "      <th>9</th>\n",
       "      <th>10</th>\n",
       "      <th>11</th>\n",
       "      <th>12</th>\n",
       "    </tr>\n",
       "  </thead>\n",
       "  <tbody>\n",
       "    <tr>\n",
       "      <th>0</th>\n",
       "      <td>4744</td>\n",
       "      <td>8123</td>\n",
       "      <td>7715</td>\n",
       "      <td>RESTAURANT</td>\n",
       "      <td>15522</td>\n",
       "      <td>id-11235901</td>\n",
       "      <td>id_1890134</td>\n",
       "      <td>81876.0</td>\n",
       "      <td>CANVASS</td>\n",
       "      <td>33.0</td>\n",
       "      <td>High</td>\n",
       "      <td>locid16406</td>\n",
       "      <td>4</td>\n",
       "    </tr>\n",
       "    <tr>\n",
       "      <th>1</th>\n",
       "      <td>2973</td>\n",
       "      <td>12268</td>\n",
       "      <td>11664</td>\n",
       "      <td>GROCERY STORE</td>\n",
       "      <td>3057</td>\n",
       "      <td>id-11235901</td>\n",
       "      <td>id_1890134</td>\n",
       "      <td>81862.0</td>\n",
       "      <td>COMPLAINT</td>\n",
       "      <td>33.0</td>\n",
       "      <td>High</td>\n",
       "      <td>locid878</td>\n",
       "      <td>4</td>\n",
       "    </tr>\n",
       "    <tr>\n",
       "      <th>2</th>\n",
       "      <td>18223</td>\n",
       "      <td>1112</td>\n",
       "      <td>969</td>\n",
       "      <td>RESTAURANT</td>\n",
       "      <td>14988</td>\n",
       "      <td>id-11235901</td>\n",
       "      <td>id_1890134</td>\n",
       "      <td>81883.0</td>\n",
       "      <td>CANVASS</td>\n",
       "      <td>32.0</td>\n",
       "      <td>High</td>\n",
       "      <td>locid3368</td>\n",
       "      <td>6</td>\n",
       "    </tr>\n",
       "  </tbody>\n",
       "</table>\n",
       "</div>"
      ],
      "text/plain": [
       "       0      1      2              3      4            5           6  \\\n",
       "0   4744   8123   7715     RESTAURANT  15522  id-11235901  id_1890134   \n",
       "1   2973  12268  11664  GROCERY STORE   3057  id-11235901  id_1890134   \n",
       "2  18223   1112    969     RESTAURANT  14988  id-11235901  id_1890134   \n",
       "\n",
       "         7          8     9    10          11  12  \n",
       "0  81876.0    CANVASS  33.0  High  locid16406   4  \n",
       "1  81862.0  COMPLAINT  33.0  High    locid878   4  \n",
       "2  81883.0    CANVASS  32.0  High   locid3368   6  "
      ]
     },
     "execution_count": 9,
     "metadata": {},
     "output_type": "execute_result"
    }
   ],
   "source": [
    "dataframe.head(3)"
   ]
  },
  {
   "cell_type": "code",
   "execution_count": 10,
   "metadata": {},
   "outputs": [],
   "source": [
    "dataframe.rename(columns = { 0:'LicenseNo',1:'FacilityID',2:'FacilityName', 3:'Type',4:'Street',5:'City',6:'State',7:'LocationID',8:'Reason',9:'SectionViolations',10:'RiskLevel',11:'Geo_Loc',12:'Inspection_Results'},inplace=True)\n"
   ]
  },
  {
   "cell_type": "code",
   "execution_count": 11,
   "metadata": {},
   "outputs": [
    {
     "data": {
      "text/plain": [
       "(147443, 13)"
      ]
     },
     "execution_count": 11,
     "metadata": {},
     "output_type": "execute_result"
    }
   ],
   "source": [
    "dataframe.shape"
   ]
  },
  {
   "cell_type": "code",
   "execution_count": null,
   "metadata": {},
   "outputs": [],
   "source": []
  },
  {
   "cell_type": "code",
   "execution_count": 12,
   "metadata": {},
   "outputs": [],
   "source": [
    "# dataframe = pd.get_dummies(dataframe, prefix=\"RiskLevel\",columns=['RiskLevel'])\n",
    "# dataframe = pd.get_dummies(dataframe, prefix=\"City\",columns=['City'])\n",
    "# dataframe = pd.get_dummies(dataframe, prefix=\"State\",columns=['State'])\n",
    "# dataframe = pd.get_dummies(dataframe, prefix=\"Reason\",columns=['Reason'])"
   ]
  },
  {
   "cell_type": "code",
   "execution_count": null,
   "metadata": {},
   "outputs": [],
   "source": []
  },
  {
   "cell_type": "code",
   "execution_count": 13,
   "metadata": {},
   "outputs": [],
   "source": [
    "from sklearn import preprocessing \n",
    "  \n",
    "# label_encoder object knows how to understand word labels. \n",
    "label_encoder = preprocessing.LabelEncoder() \n",
    "  \n",
    "# Encode labels in column 'species'. \n",
    "dataframe['Type']= label_encoder.fit_transform(dataframe['Type']) \n",
    "dataframe['Geo_Loc'] = label_encoder.fit_transform(dataframe['Geo_Loc'])\n",
    "dataframe['FacilityID'] = label_encoder.fit_transform(dataframe['FacilityID'])\n",
    "dataframe['FacilityName'] = label_encoder.fit_transform(dataframe['FacilityName'])\n",
    "dataframe['LocationID'] = label_encoder.fit_transform(dataframe['LocationID'])\n",
    "dataframe['SectionViolations'] = label_encoder.fit_transform(dataframe['SectionViolations'])\n",
    "dataframe['LicenseNo'] = label_encoder.fit_transform(dataframe['LicenseNo'])\n",
    "\n"
   ]
  },
  {
   "cell_type": "code",
   "execution_count": 14,
   "metadata": {},
   "outputs": [],
   "source": [
    "data =dataframe.drop(['Inspection_Results'] , axis =1)"
   ]
  },
  {
   "cell_type": "code",
   "execution_count": 15,
   "metadata": {},
   "outputs": [
    {
     "name": "stdout",
     "output_type": "stream",
     "text": [
      "(147443, 12)\n",
      "(147443,)\n"
     ]
    }
   ],
   "source": [
    "dataframe.head(3)\n",
    "print(data.shape)\n",
    "print(dataframe['Inspection_Results'].shape)"
   ]
  },
  {
   "cell_type": "code",
   "execution_count": 16,
   "metadata": {},
   "outputs": [
    {
     "name": "stdout",
     "output_type": "stream",
     "text": [
      "[(0, 79453), (1, 79453), (2, 79453), (3, 79453), (4, 79453), (5, 79453), (6, 79453)]\n"
     ]
    }
   ],
   "source": [
    "smote_nc = SMOTENC(categorical_features=[3,5,6,8,9,10,], random_state=0) \n",
    "\n",
    "X_resampled, y_resampled = smote_nc.fit_resample(data,dataframe['Inspection_Results'])\n",
    "print(sorted(Counter(y_resampled).items()))"
   ]
  },
  {
   "cell_type": "code",
   "execution_count": 17,
   "metadata": {},
   "outputs": [],
   "source": [
    "ndataframe = pd.concat([X_resampled,y_resampled] , axis =1)"
   ]
  },
  {
   "cell_type": "code",
   "execution_count": null,
   "metadata": {},
   "outputs": [],
   "source": []
  },
  {
   "cell_type": "code",
   "execution_count": null,
   "metadata": {},
   "outputs": [],
   "source": []
  },
  {
   "cell_type": "code",
   "execution_count": 18,
   "metadata": {},
   "outputs": [],
   "source": [
    "ndataframe = pd.get_dummies(ndataframe, prefix=\"RiskLevel\",columns=['RiskLevel'])\n",
    "ndataframe = pd.get_dummies(ndataframe, prefix=\"City\",columns=['City'])\n",
    "ndataframe = pd.get_dummies(ndataframe, prefix=\"State\",columns=['State'])\n",
    "ndataframe = pd.get_dummies(ndataframe, prefix=\"Reason\",columns=['Reason'])"
   ]
  },
  {
   "cell_type": "code",
   "execution_count": 56,
   "metadata": {},
   "outputs": [],
   "source": [
    "#ndataframe.to_excel(excel_writer = \"/home/ryan/MachineHack/Food_QUalityA_ParticipantsData/Data_Train1.xlsx\")"
   ]
  },
  {
   "cell_type": "code",
   "execution_count": 57,
   "metadata": {},
   "outputs": [
    {
     "ename": "TypeError",
     "evalue": "'module' object is not callable",
     "output_type": "error",
     "traceback": [
      "\u001b[0;31m------------------------------\u001b[0m",
      "\u001b[0;31mTypeError\u001b[0mTraceback (most recent call last)",
      "\u001b[0;32m<ipython-input-57-0f8bde52e70d>\u001b[0m in \u001b[0;36m<module>\u001b[0;34m\u001b[0m\n\u001b[0;32m----> 1\u001b[0;31m \u001b[0mplt\u001b[0m\u001b[0;34m.\u001b[0m\u001b[0mfigure\u001b[0m\u001b[0;34m(\u001b[0m\u001b[0;34m)\u001b[0m\u001b[0;34m\u001b[0m\u001b[0m\n\u001b[0m\u001b[1;32m      2\u001b[0m \u001b[0msns\u001b[0m\u001b[0;34m.\u001b[0m\u001b[0mheatmap\u001b[0m\u001b[0;34m(\u001b[0m\u001b[0mndataframe\u001b[0m\u001b[0;34m.\u001b[0m\u001b[0mcorr\u001b[0m\u001b[0;34m(\u001b[0m\u001b[0;34m)\u001b[0m\u001b[0;34m)\u001b[0m\u001b[0;34m\u001b[0m\u001b[0m\n",
      "\u001b[0;31mTypeError\u001b[0m: 'module' object is not callable"
     ]
    }
   ],
   "source": [
    "plt.figure()\n",
    "sns.heatmap(ndataframe.corr())"
   ]
  },
  {
   "cell_type": "code",
   "execution_count": 21,
   "metadata": {},
   "outputs": [
    {
     "name": "stdout",
     "output_type": "stream",
     "text": [
      "<class 'pandas.core.frame.DataFrame'>\n",
      "RangeIndex: 556171 entries, 0 to 556170\n",
      "Data columns (total 34 columns):\n",
      "LicenseNo                                        556171 non-null int64\n",
      "FacilityID                                       556171 non-null int64\n",
      "FacilityName                                     556171 non-null int64\n",
      "Type                                             556171 non-null int64\n",
      "Street                                           556171 non-null int64\n",
      "LocationID                                       556171 non-null int64\n",
      "SectionViolations                                556171 non-null int64\n",
      "Geo_Loc                                          556171 non-null int64\n",
      "Inspection_Results                               556171 non-null int64\n",
      "RiskLevel_High                                   556171 non-null uint8\n",
      "RiskLevel_Low                                    556171 non-null uint8\n",
      "RiskLevel_Medium                                 556171 non-null uint8\n",
      "RiskLevel_Uncertain                              556171 non-null uint8\n",
      "City_id-11235901                                 556171 non-null uint8\n",
      "City_id-11275913                                 556171 non-null uint8\n",
      "State_id_1890134                                 556171 non-null uint8\n",
      "State_id_1890135                                 556171 non-null uint8\n",
      "Reason_CANVASS                                   556171 non-null uint8\n",
      "Reason_CANVASS RE-INSPECTION                     556171 non-null uint8\n",
      "Reason_COMPLAINT                                 556171 non-null uint8\n",
      "Reason_COMPLAINT RE-INSPECTION                   556171 non-null uint8\n",
      "Reason_COMPLAINT-FIRE                            556171 non-null uint8\n",
      "Reason_CONSULTATION                              556171 non-null uint8\n",
      "Reason_LICENSE                                   556171 non-null uint8\n",
      "Reason_LICENSE RE-INSPECTION                     556171 non-null uint8\n",
      "Reason_LICENSE-TASK FORCE                        556171 non-null uint8\n",
      "Reason_OUT OF BUSINESS                           556171 non-null uint8\n",
      "Reason_RECENT INSPECTION                         556171 non-null uint8\n",
      "Reason_SHORT FORM COMPLAINT                      556171 non-null uint8\n",
      "Reason_SHORT FORM FIRE-COMPLAINT                 556171 non-null uint8\n",
      "Reason_SUSPECTED FOOD POISONING                  556171 non-null uint8\n",
      "Reason_SUSPECTED FOOD POISONING RE-INSPECTION    556171 non-null uint8\n",
      "Reason_TAG REMOVAL                               556171 non-null uint8\n",
      "Reason_TASK FORCE LIQUOR 1475                    556171 non-null uint8\n",
      "dtypes: int64(9), uint8(25)\n",
      "memory usage: 51.4 MB\n"
     ]
    }
   ],
   "source": [
    "ndataframe.info()"
   ]
  },
  {
   "cell_type": "code",
   "execution_count": 22,
   "metadata": {},
   "outputs": [
    {
     "data": {
      "text/html": [
       "<div>\n",
       "<style scoped>\n",
       "    .dataframe tbody tr th:only-of-type {\n",
       "        vertical-align: middle;\n",
       "    }\n",
       "\n",
       "    .dataframe tbody tr th {\n",
       "        vertical-align: top;\n",
       "    }\n",
       "\n",
       "    .dataframe thead th {\n",
       "        text-align: right;\n",
       "    }\n",
       "</style>\n",
       "<table border=\"1\" class=\"dataframe\">\n",
       "  <thead>\n",
       "    <tr style=\"text-align: right;\">\n",
       "      <th></th>\n",
       "      <th>LicenseNo</th>\n",
       "      <th>FacilityID</th>\n",
       "      <th>FacilityName</th>\n",
       "      <th>Type</th>\n",
       "      <th>Street</th>\n",
       "      <th>LocationID</th>\n",
       "      <th>SectionViolations</th>\n",
       "      <th>Geo_Loc</th>\n",
       "      <th>Inspection_Results</th>\n",
       "      <th>RiskLevel_High</th>\n",
       "      <th>...</th>\n",
       "      <th>Reason_LICENSE RE-INSPECTION</th>\n",
       "      <th>Reason_LICENSE-TASK FORCE</th>\n",
       "      <th>Reason_OUT OF BUSINESS</th>\n",
       "      <th>Reason_RECENT INSPECTION</th>\n",
       "      <th>Reason_SHORT FORM COMPLAINT</th>\n",
       "      <th>Reason_SHORT FORM FIRE-COMPLAINT</th>\n",
       "      <th>Reason_SUSPECTED FOOD POISONING</th>\n",
       "      <th>Reason_SUSPECTED FOOD POISONING RE-INSPECTION</th>\n",
       "      <th>Reason_TAG REMOVAL</th>\n",
       "      <th>Reason_TASK FORCE LIQUOR 1475</th>\n",
       "    </tr>\n",
       "  </thead>\n",
       "  <tbody>\n",
       "    <tr>\n",
       "      <th>count</th>\n",
       "      <td>556171.000000</td>\n",
       "      <td>556171.000000</td>\n",
       "      <td>556171.000000</td>\n",
       "      <td>556171.000000</td>\n",
       "      <td>556171.000000</td>\n",
       "      <td>556171.000000</td>\n",
       "      <td>556171.000000</td>\n",
       "      <td>556171.000000</td>\n",
       "      <td>556171.000000</td>\n",
       "      <td>556171.000000</td>\n",
       "      <td>...</td>\n",
       "      <td>556171.000000</td>\n",
       "      <td>556171.000000</td>\n",
       "      <td>556171.000000</td>\n",
       "      <td>556171.000000</td>\n",
       "      <td>556171.000000</td>\n",
       "      <td>556171.000000</td>\n",
       "      <td>556171.000000</td>\n",
       "      <td>556171.000000</td>\n",
       "      <td>556171.000000</td>\n",
       "      <td>556171.000000</td>\n",
       "    </tr>\n",
       "    <tr>\n",
       "      <th>mean</th>\n",
       "      <td>17000.988302</td>\n",
       "      <td>12748.852376</td>\n",
       "      <td>12248.705760</td>\n",
       "      <td>302.672743</td>\n",
       "      <td>8762.641817</td>\n",
       "      <td>65.189967</td>\n",
       "      <td>25.375210</td>\n",
       "      <td>8419.720426</td>\n",
       "      <td>3.000000</td>\n",
       "      <td>0.711181</td>\n",
       "      <td>...</td>\n",
       "      <td>0.015610</td>\n",
       "      <td>0.001334</td>\n",
       "      <td>0.000606</td>\n",
       "      <td>0.000451</td>\n",
       "      <td>0.012534</td>\n",
       "      <td>0.000138</td>\n",
       "      <td>0.001266</td>\n",
       "      <td>0.000264</td>\n",
       "      <td>0.001063</td>\n",
       "      <td>0.000466</td>\n",
       "    </tr>\n",
       "    <tr>\n",
       "      <th>std</th>\n",
       "      <td>10167.136245</td>\n",
       "      <td>7219.245617</td>\n",
       "      <td>6816.667604</td>\n",
       "      <td>61.249299</td>\n",
       "      <td>5159.693825</td>\n",
       "      <td>15.077612</td>\n",
       "      <td>10.690548</td>\n",
       "      <td>4693.787220</td>\n",
       "      <td>2.000002</td>\n",
       "      <td>0.453214</td>\n",
       "      <td>...</td>\n",
       "      <td>0.123962</td>\n",
       "      <td>0.036501</td>\n",
       "      <td>0.024608</td>\n",
       "      <td>0.021239</td>\n",
       "      <td>0.111251</td>\n",
       "      <td>0.011766</td>\n",
       "      <td>0.035556</td>\n",
       "      <td>0.016255</td>\n",
       "      <td>0.032581</td>\n",
       "      <td>0.021575</td>\n",
       "    </tr>\n",
       "    <tr>\n",
       "      <th>min</th>\n",
       "      <td>0.000000</td>\n",
       "      <td>0.000000</td>\n",
       "      <td>0.000000</td>\n",
       "      <td>0.000000</td>\n",
       "      <td>0.000000</td>\n",
       "      <td>0.000000</td>\n",
       "      <td>0.000000</td>\n",
       "      <td>0.000000</td>\n",
       "      <td>0.000000</td>\n",
       "      <td>0.000000</td>\n",
       "      <td>...</td>\n",
       "      <td>0.000000</td>\n",
       "      <td>0.000000</td>\n",
       "      <td>0.000000</td>\n",
       "      <td>0.000000</td>\n",
       "      <td>0.000000</td>\n",
       "      <td>0.000000</td>\n",
       "      <td>0.000000</td>\n",
       "      <td>0.000000</td>\n",
       "      <td>0.000000</td>\n",
       "      <td>0.000000</td>\n",
       "    </tr>\n",
       "    <tr>\n",
       "      <th>25%</th>\n",
       "      <td>8288.000000</td>\n",
       "      <td>6486.000000</td>\n",
       "      <td>6381.000000</td>\n",
       "      <td>326.000000</td>\n",
       "      <td>4264.000000</td>\n",
       "      <td>52.000000</td>\n",
       "      <td>20.000000</td>\n",
       "      <td>4320.000000</td>\n",
       "      <td>1.000000</td>\n",
       "      <td>0.000000</td>\n",
       "      <td>...</td>\n",
       "      <td>0.000000</td>\n",
       "      <td>0.000000</td>\n",
       "      <td>0.000000</td>\n",
       "      <td>0.000000</td>\n",
       "      <td>0.000000</td>\n",
       "      <td>0.000000</td>\n",
       "      <td>0.000000</td>\n",
       "      <td>0.000000</td>\n",
       "      <td>0.000000</td>\n",
       "      <td>0.000000</td>\n",
       "    </tr>\n",
       "    <tr>\n",
       "      <th>50%</th>\n",
       "      <td>17003.000000</td>\n",
       "      <td>12605.000000</td>\n",
       "      <td>12414.000000</td>\n",
       "      <td>326.000000</td>\n",
       "      <td>8540.000000</td>\n",
       "      <td>63.000000</td>\n",
       "      <td>31.000000</td>\n",
       "      <td>8392.000000</td>\n",
       "      <td>3.000000</td>\n",
       "      <td>1.000000</td>\n",
       "      <td>...</td>\n",
       "      <td>0.000000</td>\n",
       "      <td>0.000000</td>\n",
       "      <td>0.000000</td>\n",
       "      <td>0.000000</td>\n",
       "      <td>0.000000</td>\n",
       "      <td>0.000000</td>\n",
       "      <td>0.000000</td>\n",
       "      <td>0.000000</td>\n",
       "      <td>0.000000</td>\n",
       "      <td>0.000000</td>\n",
       "    </tr>\n",
       "    <tr>\n",
       "      <th>75%</th>\n",
       "      <td>26027.000000</td>\n",
       "      <td>19121.000000</td>\n",
       "      <td>18047.000000</td>\n",
       "      <td>326.000000</td>\n",
       "      <td>13347.000000</td>\n",
       "      <td>77.000000</td>\n",
       "      <td>31.000000</td>\n",
       "      <td>12821.000000</td>\n",
       "      <td>5.000000</td>\n",
       "      <td>1.000000</td>\n",
       "      <td>...</td>\n",
       "      <td>0.000000</td>\n",
       "      <td>0.000000</td>\n",
       "      <td>0.000000</td>\n",
       "      <td>0.000000</td>\n",
       "      <td>0.000000</td>\n",
       "      <td>0.000000</td>\n",
       "      <td>0.000000</td>\n",
       "      <td>0.000000</td>\n",
       "      <td>0.000000</td>\n",
       "      <td>0.000000</td>\n",
       "    </tr>\n",
       "    <tr>\n",
       "      <th>max</th>\n",
       "      <td>34383.000000</td>\n",
       "      <td>25534.000000</td>\n",
       "      <td>24347.000000</td>\n",
       "      <td>408.000000</td>\n",
       "      <td>17891.000000</td>\n",
       "      <td>103.000000</td>\n",
       "      <td>60.000000</td>\n",
       "      <td>16315.000000</td>\n",
       "      <td>6.000000</td>\n",
       "      <td>1.000000</td>\n",
       "      <td>...</td>\n",
       "      <td>1.000000</td>\n",
       "      <td>1.000000</td>\n",
       "      <td>1.000000</td>\n",
       "      <td>1.000000</td>\n",
       "      <td>1.000000</td>\n",
       "      <td>1.000000</td>\n",
       "      <td>1.000000</td>\n",
       "      <td>1.000000</td>\n",
       "      <td>1.000000</td>\n",
       "      <td>1.000000</td>\n",
       "    </tr>\n",
       "  </tbody>\n",
       "</table>\n",
       "<p>8 rows × 34 columns</p>\n",
       "</div>"
      ],
      "text/plain": [
       "           LicenseNo     FacilityID   FacilityName           Type  \\\n",
       "count  556171.000000  556171.000000  556171.000000  556171.000000   \n",
       "mean    17000.988302   12748.852376   12248.705760     302.672743   \n",
       "std     10167.136245    7219.245617    6816.667604      61.249299   \n",
       "min         0.000000       0.000000       0.000000       0.000000   \n",
       "25%      8288.000000    6486.000000    6381.000000     326.000000   \n",
       "50%     17003.000000   12605.000000   12414.000000     326.000000   \n",
       "75%     26027.000000   19121.000000   18047.000000     326.000000   \n",
       "max     34383.000000   25534.000000   24347.000000     408.000000   \n",
       "\n",
       "              Street     LocationID  SectionViolations        Geo_Loc  \\\n",
       "count  556171.000000  556171.000000      556171.000000  556171.000000   \n",
       "mean     8762.641817      65.189967          25.375210    8419.720426   \n",
       "std      5159.693825      15.077612          10.690548    4693.787220   \n",
       "min         0.000000       0.000000           0.000000       0.000000   \n",
       "25%      4264.000000      52.000000          20.000000    4320.000000   \n",
       "50%      8540.000000      63.000000          31.000000    8392.000000   \n",
       "75%     13347.000000      77.000000          31.000000   12821.000000   \n",
       "max     17891.000000     103.000000          60.000000   16315.000000   \n",
       "\n",
       "       Inspection_Results  RiskLevel_High  ...  Reason_LICENSE RE-INSPECTION  \\\n",
       "count       556171.000000   556171.000000  ...                 556171.000000   \n",
       "mean             3.000000        0.711181  ...                      0.015610   \n",
       "std              2.000002        0.453214  ...                      0.123962   \n",
       "min              0.000000        0.000000  ...                      0.000000   \n",
       "25%              1.000000        0.000000  ...                      0.000000   \n",
       "50%              3.000000        1.000000  ...                      0.000000   \n",
       "75%              5.000000        1.000000  ...                      0.000000   \n",
       "max              6.000000        1.000000  ...                      1.000000   \n",
       "\n",
       "       Reason_LICENSE-TASK FORCE  Reason_OUT OF BUSINESS  \\\n",
       "count              556171.000000           556171.000000   \n",
       "mean                    0.001334                0.000606   \n",
       "std                     0.036501                0.024608   \n",
       "min                     0.000000                0.000000   \n",
       "25%                     0.000000                0.000000   \n",
       "50%                     0.000000                0.000000   \n",
       "75%                     0.000000                0.000000   \n",
       "max                     1.000000                1.000000   \n",
       "\n",
       "       Reason_RECENT INSPECTION  Reason_SHORT FORM COMPLAINT  \\\n",
       "count             556171.000000                556171.000000   \n",
       "mean                   0.000451                     0.012534   \n",
       "std                    0.021239                     0.111251   \n",
       "min                    0.000000                     0.000000   \n",
       "25%                    0.000000                     0.000000   \n",
       "50%                    0.000000                     0.000000   \n",
       "75%                    0.000000                     0.000000   \n",
       "max                    1.000000                     1.000000   \n",
       "\n",
       "       Reason_SHORT FORM FIRE-COMPLAINT  Reason_SUSPECTED FOOD POISONING  \\\n",
       "count                     556171.000000                    556171.000000   \n",
       "mean                           0.000138                         0.001266   \n",
       "std                            0.011766                         0.035556   \n",
       "min                            0.000000                         0.000000   \n",
       "25%                            0.000000                         0.000000   \n",
       "50%                            0.000000                         0.000000   \n",
       "75%                            0.000000                         0.000000   \n",
       "max                            1.000000                         1.000000   \n",
       "\n",
       "       Reason_SUSPECTED FOOD POISONING RE-INSPECTION  Reason_TAG REMOVAL  \\\n",
       "count                                  556171.000000       556171.000000   \n",
       "mean                                        0.000264            0.001063   \n",
       "std                                         0.016255            0.032581   \n",
       "min                                         0.000000            0.000000   \n",
       "25%                                         0.000000            0.000000   \n",
       "50%                                         0.000000            0.000000   \n",
       "75%                                         0.000000            0.000000   \n",
       "max                                         1.000000            1.000000   \n",
       "\n",
       "       Reason_TASK FORCE LIQUOR 1475  \n",
       "count                  556171.000000  \n",
       "mean                        0.000466  \n",
       "std                         0.021575  \n",
       "min                         0.000000  \n",
       "25%                         0.000000  \n",
       "50%                         0.000000  \n",
       "75%                         0.000000  \n",
       "max                         1.000000  \n",
       "\n",
       "[8 rows x 34 columns]"
      ]
     },
     "execution_count": 22,
     "metadata": {},
     "output_type": "execute_result"
    }
   ],
   "source": [
    "ndataframe.describe()"
   ]
  },
  {
   "cell_type": "code",
   "execution_count": 23,
   "metadata": {},
   "outputs": [],
   "source": [
    "from sklearn.preprocessing import StandardScaler \n",
    "scaler = StandardScaler() \n"
   ]
  },
  {
   "cell_type": "code",
   "execution_count": null,
   "metadata": {},
   "outputs": [],
   "source": []
  },
  {
   "cell_type": "code",
   "execution_count": 24,
   "metadata": {},
   "outputs": [],
   "source": [
    "Y = ndataframe['Inspection_Results']\n",
    "X = ndataframe.drop('Inspection_Results', axis =1)\n",
    "S = X.copy()"
   ]
  },
  {
   "cell_type": "code",
   "execution_count": 25,
   "metadata": {},
   "outputs": [],
   "source": [
    "\n",
    "S = scaler.fit_transform(S)\n",
    "  \n"
   ]
  },
  {
   "cell_type": "code",
   "execution_count": 26,
   "metadata": {},
   "outputs": [
    {
     "data": {
      "text/plain": [
       "array([[-1.25876151, -0.72027707, -0.74695007, ..., -0.01625968,\n",
       "        -0.03261523, -0.02158474],\n",
       "       [-1.41298404, -0.18199319, -0.20298877, ..., -0.01625968,\n",
       "        -0.03261523, -0.02158474],\n",
       "       [-0.03462023, -1.62425045, -1.66792877, ..., -0.01625968,\n",
       "        -0.03261523, -0.02158474],\n",
       "       ...,\n",
       "       [ 1.18784899,  0.79317883,  1.06229336, ..., -0.01625968,\n",
       "        -0.03261523, -0.02158474],\n",
       "       [-1.35662593,  1.38603909,  1.3844452 , ..., -0.01625968,\n",
       "        -0.03261523, -0.02158474],\n",
       "       [ 1.44859128,  1.06661485,  1.06786794, ..., -0.01625968,\n",
       "        -0.03261523, -0.02158474]])"
      ]
     },
     "execution_count": 26,
     "metadata": {},
     "output_type": "execute_result"
    }
   ],
   "source": [
    "S\n"
   ]
  },
  {
   "cell_type": "code",
   "execution_count": 73,
   "metadata": {},
   "outputs": [],
   "source": [
    "X_train,X_test,Y_train,Y_test=train_test_split(S,Y,test_size=0.3)"
   ]
  },
  {
   "cell_type": "code",
   "execution_count": 74,
   "metadata": {},
   "outputs": [
    {
     "ename": "AttributeError",
     "evalue": "'numpy.ndarray' object has no attribute 'describe'",
     "output_type": "error",
     "traceback": [
      "\u001b[0;31m------------------------------\u001b[0m",
      "\u001b[0;31mAttributeError\u001b[0mTraceback (most recent call last)",
      "\u001b[0;32m<ipython-input-74-9d771e2afdf3>\u001b[0m in \u001b[0;36m<module>\u001b[0;34m\u001b[0m\n\u001b[0;32m----> 1\u001b[0;31m \u001b[0mX_train\u001b[0m\u001b[0;34m.\u001b[0m\u001b[0mdescribe\u001b[0m\u001b[0;34m(\u001b[0m\u001b[0;34m)\u001b[0m\u001b[0;34m\u001b[0m\u001b[0m\n\u001b[0m",
      "\u001b[0;31mAttributeError\u001b[0m: 'numpy.ndarray' object has no attribute 'describe'"
     ]
    }
   ],
   "source": [
    "X_train.describe()"
   ]
  },
  {
   "cell_type": "code",
   "execution_count": 75,
   "metadata": {},
   "outputs": [
    {
     "ename": "AttributeError",
     "evalue": "'numpy.ndarray' object has no attribute 'head'",
     "output_type": "error",
     "traceback": [
      "\u001b[0;31m------------------------------\u001b[0m",
      "\u001b[0;31mAttributeError\u001b[0mTraceback (most recent call last)",
      "\u001b[0;32m<ipython-input-75-73020798007e>\u001b[0m in \u001b[0;36m<module>\u001b[0;34m\u001b[0m\n\u001b[0;32m----> 1\u001b[0;31m \u001b[0mX_train\u001b[0m\u001b[0;34m.\u001b[0m\u001b[0mhead\u001b[0m\u001b[0;34m(\u001b[0m\u001b[0;34m)\u001b[0m\u001b[0;34m\u001b[0m\u001b[0m\n\u001b[0m",
      "\u001b[0;31mAttributeError\u001b[0m: 'numpy.ndarray' object has no attribute 'head'"
     ]
    }
   ],
   "source": [
    "X_train.head()"
   ]
  },
  {
   "cell_type": "code",
   "execution_count": 76,
   "metadata": {},
   "outputs": [
    {
     "name": "stdout",
     "output_type": "stream",
     "text": [
      "389319\n",
      "389319\n",
      "166852\n",
      "166852\n"
     ]
    }
   ],
   "source": [
    "print(len(X_train))\n",
    "print(len(Y_train))\n",
    "print(len(X_test))\n",
    "print(len(X_test))"
   ]
  },
  {
   "cell_type": "code",
   "execution_count": 77,
   "metadata": {},
   "outputs": [
    {
     "name": "stdout",
     "output_type": "stream",
     "text": [
      "[(0, 55573), (1, 55395), (2, 55557), (3, 55808), (4, 55598), (5, 55768), (6, 55620)]\n"
     ]
    }
   ],
   "source": [
    "print(sorted(Counter(Y_train).items()))"
   ]
  },
  {
   "cell_type": "code",
   "execution_count": null,
   "metadata": {},
   "outputs": [],
   "source": []
  },
  {
   "cell_type": "code",
   "execution_count": 78,
   "metadata": {},
   "outputs": [],
   "source": [
    "from xgboost import XGBClassifier\n",
    "\n",
    "clf1=XGBClassifier(base_score=0.5, booster='gbtree', colsample_bylevel=1,\n",
    "              colsample_bynode=1, colsample_bytree=0.8, gamma=0.5,\n",
    "              learning_rate=0.1, max_delta_step=0, max_depth=5,\n",
    "              min_child_weight=1, missing=None, n_estimators=100, n_jobs=1,\n",
    "              nthread=None, objective='multi:softprob', random_state=0,\n",
    "              reg_alpha=0, reg_lambda=1, scale_pos_weight=1, seed=None,\n",
    "              silent=None, subsample=0.6, verbosity=1)"
   ]
  },
  {
   "cell_type": "code",
   "execution_count": null,
   "metadata": {},
   "outputs": [],
   "source": []
  },
  {
   "cell_type": "code",
   "execution_count": 79,
   "metadata": {},
   "outputs": [],
   "source": [
    "# clf1.fit(X_train,Y_train)\n",
    "# clf1.score(X_test,Y_test)\n",
    "# Y_pred1 =clf1.predict(X_test)"
   ]
  },
  {
   "cell_type": "code",
   "execution_count": null,
   "metadata": {},
   "outputs": [],
   "source": []
  },
  {
   "cell_type": "code",
   "execution_count": 80,
   "metadata": {},
   "outputs": [],
   "source": [
    "# clf1.score(X_test,Y_test)"
   ]
  },
  {
   "cell_type": "code",
   "execution_count": null,
   "metadata": {},
   "outputs": [],
   "source": []
  },
  {
   "cell_type": "code",
   "execution_count": null,
   "metadata": {},
   "outputs": [],
   "source": []
  },
  {
   "cell_type": "code",
   "execution_count": 81,
   "metadata": {},
   "outputs": [],
   "source": [
    "# from sklearn.metrics import classification_report\n",
    "# target_names = ['class 0', 'class 1', 'class 2','class 3', 'class 4', 'class 5', 'class 6']\n",
    "# print(classification_report(Y_test, Y_pred1, target_names=target_names))"
   ]
  },
  {
   "cell_type": "code",
   "execution_count": 82,
   "metadata": {},
   "outputs": [],
   "source": [
    "# clf1=xgb.XGBClassifier()\n",
    "# paramsclf1 = {\n",
    "#         'min_child_weight': [1, 5, 10],\n",
    "#         'gamma': [0.5, 1, 1.5, 2, 5],\n",
    "#         'subsample': [0.6, 0.8, 1.0],\n",
    "#         'colsample_bytree': [0.6, 0.8, 1.0],\n",
    "#         'max_depth': [3, 4, 5]\n",
    "#         }\n",
    "# folds = 5\n",
    "# param_comb = 5\n",
    "\n",
    "# skf = StratifiedKFold(n_splits=folds, shuffle = True, random_state = 1001)"
   ]
  },
  {
   "cell_type": "code",
   "execution_count": 83,
   "metadata": {},
   "outputs": [],
   "source": [
    "# gridclf1 = GridSearchCV(estimator=clf1, param_grid=paramsclf1, scoring='accuracy', n_jobs=-1, cv=skf.split(X_train,Y_train), verbose=3 )\n",
    "# gridclf1.fit(X_train, Y_train)\n",
    "# print('\\n All results:')\n",
    "# print(gridclf1.cv_results_)\n",
    "# print('\\n Best estimator:')\n",
    "# print(gridclf1.best_estimator_)\n",
    "# print('\\n Best score:')\n",
    "# print(gridclf1.best_score_ * 2 - 1)\n",
    "# print('\\n Best parameters:')\n",
    "# print(gridclf1.best_params_)\n",
    "# results = pd.DataFrame(gridclf1.cv_results_)\n",
    "# results.to_csv('/home/ryan/MachineHack/Food_QUalityA_ParticipantsData/xgb-grid-search-results-011.csv', index=False)\n"
   ]
  },
  {
   "cell_type": "code",
   "execution_count": 84,
   "metadata": {},
   "outputs": [],
   "source": [
    "############ensemble#####################3"
   ]
  },
  {
   "cell_type": "code",
   "execution_count": null,
   "metadata": {},
   "outputs": [],
   "source": []
  },
  {
   "cell_type": "code",
   "execution_count": null,
   "metadata": {},
   "outputs": [],
   "source": []
  },
  {
   "cell_type": "code",
   "execution_count": 95,
   "metadata": {},
   "outputs": [],
   "source": [
    "clf5 = BaggingClassifier(base_estimator=clf4, n_estimators=100, max_samples=1.0, max_features=1.0, \n",
    "                         bootstrap=True,\n",
    "                         bootstrap_features=False, oob_score=True, warm_start=False,\n",
    "                         n_jobs=-1, random_state=None, verbose=0)\n",
    "  "
   ]
  },
  {
   "cell_type": "code",
   "execution_count": 91,
   "metadata": {},
   "outputs": [
    {
     "data": {
      "text/plain": [
       "BaggingClassifier(base_estimator=LogisticRegression(C=0.001, class_weight=None,\n",
       "                                                    dual=False,\n",
       "                                                    fit_intercept=True,\n",
       "                                                    intercept_scaling=1,\n",
       "                                                    l1_ratio=None, max_iter=100,\n",
       "                                                    multi_class='auto',\n",
       "                                                    n_jobs=None, penalty='l2',\n",
       "                                                    random_state=None,\n",
       "                                                    solver='lbfgs', tol=0.0001,\n",
       "                                                    verbose=0,\n",
       "                                                    warm_start=False),\n",
       "                  bootstrap=True, bootstrap_features=False, max_features=1.0,\n",
       "                  max_samples=1.0, n_estimators=100, n_jobs=-1, oob_score=True,\n",
       "                  random_state=None, verbose=0, warm_start=False)"
      ]
     },
     "execution_count": 91,
     "metadata": {},
     "output_type": "execute_result"
    }
   ],
   "source": [
    "clf5.fit(X_train,Y_train)"
   ]
  },
  {
   "cell_type": "code",
   "execution_count": 92,
   "metadata": {},
   "outputs": [],
   "source": [
    "Y_pred1 = clf5.predict(X_test)"
   ]
  },
  {
   "cell_type": "code",
   "execution_count": 93,
   "metadata": {},
   "outputs": [
    {
     "data": {
      "text/plain": [
       "0.6185661544362668"
      ]
     },
     "execution_count": 93,
     "metadata": {},
     "output_type": "execute_result"
    }
   ],
   "source": [
    "clf5.score(X_test,Y_test)"
   ]
  },
  {
   "cell_type": "code",
   "execution_count": 94,
   "metadata": {},
   "outputs": [
    {
     "name": "stdout",
     "output_type": "stream",
     "text": [
      "              precision    recall  f1-score   support\n",
      "\n",
      "     class 0       0.52      0.63      0.57     23880\n",
      "     class 1       0.68      0.50      0.57     24058\n",
      "     class 2       0.76      0.98      0.86     23896\n",
      "     class 3       0.41      0.58      0.48     23645\n",
      "     class 4       0.79      0.44      0.57     23855\n",
      "     class 5       0.67      0.73      0.70     23685\n",
      "     class 6       0.64      0.48      0.55     23833\n",
      "\n",
      "    accuracy                           0.62    166852\n",
      "   macro avg       0.64      0.62      0.61    166852\n",
      "weighted avg       0.64      0.62      0.61    166852\n",
      "\n"
     ]
    }
   ],
   "source": [
    "from sklearn.metrics import classification_report\n",
    "target_names = ['class 0', 'class 1', 'class 2','class 3', 'class 4', 'class 5', 'class 6']\n",
    "print(classification_report(Y_test, Y_pred1, target_names=target_names))"
   ]
  },
  {
   "cell_type": "code",
   "execution_count": 66,
   "metadata": {},
   "outputs": [
    {
     "ename": "IndentationError",
     "evalue": "unindent does not match any outer indentation level (<tokenize>, line 11)",
     "output_type": "error",
     "traceback": [
      "\u001b[0;36m  File \u001b[0;32m\"<tokenize>\"\u001b[0;36m, line \u001b[0;32m11\u001b[0m\n\u001b[0;31m    accuracy                           0.90    166852\u001b[0m\n\u001b[0m    ^\u001b[0m\n\u001b[0;31mIndentationError\u001b[0m\u001b[0;31m:\u001b[0m unindent does not match any outer indentation level\n"
     ]
    }
   ],
   "source": [
    " precision    recall  f1-score   support\n",
    "\n",
    "     class 0       0.99      1.00      0.99     23848\n",
    "     class 1       0.89      0.78      0.83     23972\n",
    "     class 2       0.93      0.99      0.96     23759\n",
    "     class 3       0.88      0.90      0.89     23770\n",
    "     class 4       0.94      0.81      0.87     23793\n",
    "     class 5       0.84      0.92      0.87     23703\n",
    "     class 6       0.84      0.91      0.88     24007\n",
    "\n",
    "    accuracy                           0.90    166852\n",
    "   macro avg       0.90      0.90      0.90    166852\n",
    "weighted avg       0.90      0.90      0.90    166852"
   ]
  },
  {
   "cell_type": "code",
   "execution_count": null,
   "metadata": {},
   "outputs": [],
   "source": []
  },
  {
   "cell_type": "code",
   "execution_count": null,
   "metadata": {},
   "outputs": [],
   "source": [
    "#####################stacking#######################"
   ]
  },
  {
   "cell_type": "code",
   "execution_count": 96,
   "metadata": {},
   "outputs": [],
   "source": [
    "clf1=xgb.XGBClassifier(base_score=0.5, booster='gbtree', colsample_bylevel=1,\n",
    "              colsample_bynode=1, colsample_bytree=0.8, gamma=0.5,\n",
    "              learning_rate=0.1, max_delta_step=0, max_depth=5,\n",
    "              min_child_weight=1, missing=None, n_estimators=100, n_jobs=1,\n",
    "              nthread=None, objective='multi:softprob', random_state=0,\n",
    "              reg_alpha=0, reg_lambda=1, scale_pos_weight=1, seed=None,\n",
    "              silent=None, subsample=0.6, verbosity=1)\n"
   ]
  },
  {
   "cell_type": "code",
   "execution_count": 97,
   "metadata": {},
   "outputs": [],
   "source": [
    "clf2 = RandomForestClassifier(bootstrap=True, ccp_alpha=0.0, class_weight=None,\n",
    "                       criterion='entropy', max_depth=8, max_features='auto',\n",
    "                       max_leaf_nodes=None, max_samples=None,\n",
    "                       min_impurity_decrease=0.0, min_impurity_split=None,\n",
    "                       min_samples_leaf=1, min_samples_split=2,\n",
    "                       min_weight_fraction_leaf=0.0, n_estimators=200,\n",
    "                       n_jobs=None, oob_score=False, random_state=None,\n",
    "                       verbose=0, warm_start=False)\n"
   ]
  },
  {
   "cell_type": "code",
   "execution_count": 98,
   "metadata": {},
   "outputs": [],
   "source": [
    "clf3= LogisticRegression(C=0.001, class_weight=None, dual=False, fit_intercept=True,\n",
    "                   intercept_scaling=1, l1_ratio=None, max_iter=100,\n",
    "                   multi_class='auto', n_jobs=None, penalty='l2',\n",
    "                   random_state=None, solver='lbfgs', tol=0.0001, verbose=0,\n",
    "                   warm_start=False)\n",
    "\n"
   ]
  },
  {
   "cell_type": "code",
   "execution_count": 104,
   "metadata": {},
   "outputs": [],
   "source": [
    "clf4 = DecisionTreeClassifier(ccp_alpha=0.0, class_weight=None, criterion='entropy',\n",
    "                       max_depth=None, max_features=35, max_leaf_nodes=None,\n",
    "                       min_impurity_decrease=0.0, min_impurity_split=None,\n",
    "                       min_samples_leaf=8, min_samples_split=2,\n",
    "                       min_weight_fraction_leaf=0.0, presort='deprecated',\n",
    "                       random_state=None, splitter='best')"
   ]
  },
  {
   "cell_type": "code",
   "execution_count": 105,
   "metadata": {},
   "outputs": [],
   "source": [
    "meta1 = clf4"
   ]
  },
  {
   "cell_type": "code",
   "execution_count": 106,
   "metadata": {},
   "outputs": [],
   "source": [
    "sclf1 = StackingClassifier(classifiers=[clf5, clf1,clf2],meta_classifier=meta1)"
   ]
  },
  {
   "cell_type": "code",
   "execution_count": 107,
   "metadata": {},
   "outputs": [
    {
     "ename": "KeyboardInterrupt",
     "evalue": "",
     "output_type": "error",
     "traceback": [
      "\u001b[0;31m------------------------------\u001b[0m",
      "\u001b[0;31mKeyboardInterrupt\u001b[0mTraceback (most recent call last)",
      "\u001b[0;32m<ipython-input-107-74baea162259>\u001b[0m in \u001b[0;36m<module>\u001b[0;34m\u001b[0m\n\u001b[0;32m----> 1\u001b[0;31m \u001b[0msclf1\u001b[0m\u001b[0;34m.\u001b[0m\u001b[0mfit\u001b[0m\u001b[0;34m(\u001b[0m\u001b[0mX_train\u001b[0m\u001b[0;34m,\u001b[0m\u001b[0mY_train\u001b[0m\u001b[0;34m)\u001b[0m\u001b[0;34m\u001b[0m\u001b[0m\n\u001b[0m\u001b[1;32m      2\u001b[0m \u001b[0msclf1\u001b[0m\u001b[0;34m.\u001b[0m\u001b[0mscore\u001b[0m\u001b[0;34m(\u001b[0m\u001b[0mX_test\u001b[0m\u001b[0;34m,\u001b[0m\u001b[0mY_test\u001b[0m\u001b[0;34m)\u001b[0m\u001b[0;34m\u001b[0m\u001b[0m\n",
      "\u001b[0;32m/usr/local/lib/python3.6/dist-packages/mlxtend/classifier/stacking_classification.py\u001b[0m in \u001b[0;36mfit\u001b[0;34m(self, X, y, sample_weight)\u001b[0m\n\u001b[1;32m    159\u001b[0m                 \u001b[0mprint\u001b[0m\u001b[0;34m(\u001b[0m\u001b[0m_name_estimators\u001b[0m\u001b[0;34m(\u001b[0m\u001b[0;34m(\u001b[0m\u001b[0mclf\u001b[0m\u001b[0;34m,\u001b[0m\u001b[0;34m)\u001b[0m\u001b[0;34m)\u001b[0m\u001b[0;34m[\u001b[0m\u001b[0;36m0\u001b[0m\u001b[0;34m]\u001b[0m\u001b[0;34m[\u001b[0m\u001b[0;36m1\u001b[0m\u001b[0;34m]\u001b[0m\u001b[0;34m)\u001b[0m\u001b[0;34m\u001b[0m\u001b[0m\n\u001b[1;32m    160\u001b[0m             \u001b[0;32mif\u001b[0m \u001b[0msample_weight\u001b[0m \u001b[0;32mis\u001b[0m \u001b[0;32mNone\u001b[0m\u001b[0;34m:\u001b[0m\u001b[0;34m\u001b[0m\u001b[0m\n\u001b[0;32m--> 161\u001b[0;31m                 \u001b[0mclf\u001b[0m\u001b[0;34m.\u001b[0m\u001b[0mfit\u001b[0m\u001b[0;34m(\u001b[0m\u001b[0mX\u001b[0m\u001b[0;34m,\u001b[0m \u001b[0my\u001b[0m\u001b[0;34m)\u001b[0m\u001b[0;34m\u001b[0m\u001b[0m\n\u001b[0m\u001b[1;32m    162\u001b[0m             \u001b[0;32melse\u001b[0m\u001b[0;34m:\u001b[0m\u001b[0;34m\u001b[0m\u001b[0m\n\u001b[1;32m    163\u001b[0m                 \u001b[0mclf\u001b[0m\u001b[0;34m.\u001b[0m\u001b[0mfit\u001b[0m\u001b[0;34m(\u001b[0m\u001b[0mX\u001b[0m\u001b[0;34m,\u001b[0m \u001b[0my\u001b[0m\u001b[0;34m,\u001b[0m \u001b[0msample_weight\u001b[0m\u001b[0;34m=\u001b[0m\u001b[0msample_weight\u001b[0m\u001b[0;34m)\u001b[0m\u001b[0;34m\u001b[0m\u001b[0m\n",
      "\u001b[0;32m/usr/local/lib/python3.6/dist-packages/sklearn/ensemble/_bagging.py\u001b[0m in \u001b[0;36mfit\u001b[0;34m(self, X, y, sample_weight)\u001b[0m\n\u001b[1;32m    241\u001b[0m         \u001b[0mself\u001b[0m \u001b[0;34m:\u001b[0m \u001b[0mobject\u001b[0m\u001b[0;34m\u001b[0m\u001b[0m\n\u001b[1;32m    242\u001b[0m         \"\"\"\n\u001b[0;32m--> 243\u001b[0;31m         \u001b[0;32mreturn\u001b[0m \u001b[0mself\u001b[0m\u001b[0;34m.\u001b[0m\u001b[0m_fit\u001b[0m\u001b[0;34m(\u001b[0m\u001b[0mX\u001b[0m\u001b[0;34m,\u001b[0m \u001b[0my\u001b[0m\u001b[0;34m,\u001b[0m \u001b[0mself\u001b[0m\u001b[0;34m.\u001b[0m\u001b[0mmax_samples\u001b[0m\u001b[0;34m,\u001b[0m \u001b[0msample_weight\u001b[0m\u001b[0;34m=\u001b[0m\u001b[0msample_weight\u001b[0m\u001b[0;34m)\u001b[0m\u001b[0;34m\u001b[0m\u001b[0m\n\u001b[0m\u001b[1;32m    244\u001b[0m \u001b[0;34m\u001b[0m\u001b[0m\n\u001b[1;32m    245\u001b[0m     \u001b[0;32mdef\u001b[0m \u001b[0m_parallel_args\u001b[0m\u001b[0;34m(\u001b[0m\u001b[0mself\u001b[0m\u001b[0;34m)\u001b[0m\u001b[0;34m:\u001b[0m\u001b[0;34m\u001b[0m\u001b[0m\n",
      "\u001b[0;32m/usr/local/lib/python3.6/dist-packages/sklearn/ensemble/_bagging.py\u001b[0m in \u001b[0;36m_fit\u001b[0;34m(self, X, y, max_samples, max_depth, sample_weight)\u001b[0m\n\u001b[1;32m    378\u001b[0m                 \u001b[0mtotal_n_estimators\u001b[0m\u001b[0;34m,\u001b[0m\u001b[0;34m\u001b[0m\u001b[0m\n\u001b[1;32m    379\u001b[0m                 verbose=self.verbose)\n\u001b[0;32m--> 380\u001b[0;31m             for i in range(n_jobs))\n\u001b[0m\u001b[1;32m    381\u001b[0m \u001b[0;34m\u001b[0m\u001b[0m\n\u001b[1;32m    382\u001b[0m         \u001b[0;31m# Reduce\u001b[0m\u001b[0;34m\u001b[0m\u001b[0;34m\u001b[0m\u001b[0m\n",
      "\u001b[0;32m/usr/local/lib/python3.6/dist-packages/joblib/parallel.py\u001b[0m in \u001b[0;36m__call__\u001b[0;34m(self, iterable)\u001b[0m\n\u001b[1;32m   1015\u001b[0m \u001b[0;34m\u001b[0m\u001b[0m\n\u001b[1;32m   1016\u001b[0m             \u001b[0;32mwith\u001b[0m \u001b[0mself\u001b[0m\u001b[0;34m.\u001b[0m\u001b[0m_backend\u001b[0m\u001b[0;34m.\u001b[0m\u001b[0mretrieval_context\u001b[0m\u001b[0;34m(\u001b[0m\u001b[0;34m)\u001b[0m\u001b[0;34m:\u001b[0m\u001b[0;34m\u001b[0m\u001b[0m\n\u001b[0;32m-> 1017\u001b[0;31m                 \u001b[0mself\u001b[0m\u001b[0;34m.\u001b[0m\u001b[0mretrieve\u001b[0m\u001b[0;34m(\u001b[0m\u001b[0;34m)\u001b[0m\u001b[0;34m\u001b[0m\u001b[0m\n\u001b[0m\u001b[1;32m   1018\u001b[0m             \u001b[0;31m# Make sure that we get a last message telling us we are done\u001b[0m\u001b[0;34m\u001b[0m\u001b[0;34m\u001b[0m\u001b[0m\n\u001b[1;32m   1019\u001b[0m             \u001b[0melapsed_time\u001b[0m \u001b[0;34m=\u001b[0m \u001b[0mtime\u001b[0m\u001b[0;34m.\u001b[0m\u001b[0mtime\u001b[0m\u001b[0;34m(\u001b[0m\u001b[0;34m)\u001b[0m \u001b[0;34m-\u001b[0m \u001b[0mself\u001b[0m\u001b[0;34m.\u001b[0m\u001b[0m_start_time\u001b[0m\u001b[0;34m\u001b[0m\u001b[0m\n",
      "\u001b[0;32m/usr/local/lib/python3.6/dist-packages/joblib/parallel.py\u001b[0m in \u001b[0;36mretrieve\u001b[0;34m(self)\u001b[0m\n\u001b[1;32m    907\u001b[0m             \u001b[0;32mtry\u001b[0m\u001b[0;34m:\u001b[0m\u001b[0;34m\u001b[0m\u001b[0m\n\u001b[1;32m    908\u001b[0m                 \u001b[0;32mif\u001b[0m \u001b[0mgetattr\u001b[0m\u001b[0;34m(\u001b[0m\u001b[0mself\u001b[0m\u001b[0;34m.\u001b[0m\u001b[0m_backend\u001b[0m\u001b[0;34m,\u001b[0m \u001b[0;34m'supports_timeout'\u001b[0m\u001b[0;34m,\u001b[0m \u001b[0;32mFalse\u001b[0m\u001b[0;34m)\u001b[0m\u001b[0;34m:\u001b[0m\u001b[0;34m\u001b[0m\u001b[0m\n\u001b[0;32m--> 909\u001b[0;31m                     \u001b[0mself\u001b[0m\u001b[0;34m.\u001b[0m\u001b[0m_output\u001b[0m\u001b[0;34m.\u001b[0m\u001b[0mextend\u001b[0m\u001b[0;34m(\u001b[0m\u001b[0mjob\u001b[0m\u001b[0;34m.\u001b[0m\u001b[0mget\u001b[0m\u001b[0;34m(\u001b[0m\u001b[0mtimeout\u001b[0m\u001b[0;34m=\u001b[0m\u001b[0mself\u001b[0m\u001b[0;34m.\u001b[0m\u001b[0mtimeout\u001b[0m\u001b[0;34m)\u001b[0m\u001b[0;34m)\u001b[0m\u001b[0;34m\u001b[0m\u001b[0m\n\u001b[0m\u001b[1;32m    910\u001b[0m                 \u001b[0;32melse\u001b[0m\u001b[0;34m:\u001b[0m\u001b[0;34m\u001b[0m\u001b[0m\n\u001b[1;32m    911\u001b[0m                     \u001b[0mself\u001b[0m\u001b[0;34m.\u001b[0m\u001b[0m_output\u001b[0m\u001b[0;34m.\u001b[0m\u001b[0mextend\u001b[0m\u001b[0;34m(\u001b[0m\u001b[0mjob\u001b[0m\u001b[0;34m.\u001b[0m\u001b[0mget\u001b[0m\u001b[0;34m(\u001b[0m\u001b[0;34m)\u001b[0m\u001b[0;34m)\u001b[0m\u001b[0;34m\u001b[0m\u001b[0m\n",
      "\u001b[0;32m/usr/local/lib/python3.6/dist-packages/joblib/_parallel_backends.py\u001b[0m in \u001b[0;36mwrap_future_result\u001b[0;34m(future, timeout)\u001b[0m\n\u001b[1;32m    560\u001b[0m         AsyncResults.get from multiprocessing.\"\"\"\n\u001b[1;32m    561\u001b[0m         \u001b[0;32mtry\u001b[0m\u001b[0;34m:\u001b[0m\u001b[0;34m\u001b[0m\u001b[0m\n\u001b[0;32m--> 562\u001b[0;31m             \u001b[0;32mreturn\u001b[0m \u001b[0mfuture\u001b[0m\u001b[0;34m.\u001b[0m\u001b[0mresult\u001b[0m\u001b[0;34m(\u001b[0m\u001b[0mtimeout\u001b[0m\u001b[0;34m=\u001b[0m\u001b[0mtimeout\u001b[0m\u001b[0;34m)\u001b[0m\u001b[0;34m\u001b[0m\u001b[0m\n\u001b[0m\u001b[1;32m    563\u001b[0m         \u001b[0;32mexcept\u001b[0m \u001b[0mLokyTimeoutError\u001b[0m\u001b[0;34m:\u001b[0m\u001b[0;34m\u001b[0m\u001b[0m\n\u001b[1;32m    564\u001b[0m             \u001b[0;32mraise\u001b[0m \u001b[0mTimeoutError\u001b[0m\u001b[0;34m(\u001b[0m\u001b[0;34m)\u001b[0m\u001b[0;34m\u001b[0m\u001b[0m\n",
      "\u001b[0;32m/usr/lib/python3.6/concurrent/futures/_base.py\u001b[0m in \u001b[0;36mresult\u001b[0;34m(self, timeout)\u001b[0m\n\u001b[1;32m    425\u001b[0m                 \u001b[0;32mreturn\u001b[0m \u001b[0mself\u001b[0m\u001b[0;34m.\u001b[0m\u001b[0m__get_result\u001b[0m\u001b[0;34m(\u001b[0m\u001b[0;34m)\u001b[0m\u001b[0;34m\u001b[0m\u001b[0m\n\u001b[1;32m    426\u001b[0m \u001b[0;34m\u001b[0m\u001b[0m\n\u001b[0;32m--> 427\u001b[0;31m             \u001b[0mself\u001b[0m\u001b[0;34m.\u001b[0m\u001b[0m_condition\u001b[0m\u001b[0;34m.\u001b[0m\u001b[0mwait\u001b[0m\u001b[0;34m(\u001b[0m\u001b[0mtimeout\u001b[0m\u001b[0;34m)\u001b[0m\u001b[0;34m\u001b[0m\u001b[0m\n\u001b[0m\u001b[1;32m    428\u001b[0m \u001b[0;34m\u001b[0m\u001b[0m\n\u001b[1;32m    429\u001b[0m             \u001b[0;32mif\u001b[0m \u001b[0mself\u001b[0m\u001b[0;34m.\u001b[0m\u001b[0m_state\u001b[0m \u001b[0;32min\u001b[0m \u001b[0;34m[\u001b[0m\u001b[0mCANCELLED\u001b[0m\u001b[0;34m,\u001b[0m \u001b[0mCANCELLED_AND_NOTIFIED\u001b[0m\u001b[0;34m]\u001b[0m\u001b[0;34m:\u001b[0m\u001b[0;34m\u001b[0m\u001b[0m\n",
      "\u001b[0;32m/usr/lib/python3.6/threading.py\u001b[0m in \u001b[0;36mwait\u001b[0;34m(self, timeout)\u001b[0m\n\u001b[1;32m    293\u001b[0m         \u001b[0;32mtry\u001b[0m\u001b[0;34m:\u001b[0m    \u001b[0;31m# restore state no matter what (e.g., KeyboardInterrupt)\u001b[0m\u001b[0;34m\u001b[0m\u001b[0m\n\u001b[1;32m    294\u001b[0m             \u001b[0;32mif\u001b[0m \u001b[0mtimeout\u001b[0m \u001b[0;32mis\u001b[0m \u001b[0;32mNone\u001b[0m\u001b[0;34m:\u001b[0m\u001b[0;34m\u001b[0m\u001b[0m\n\u001b[0;32m--> 295\u001b[0;31m                 \u001b[0mwaiter\u001b[0m\u001b[0;34m.\u001b[0m\u001b[0macquire\u001b[0m\u001b[0;34m(\u001b[0m\u001b[0;34m)\u001b[0m\u001b[0;34m\u001b[0m\u001b[0m\n\u001b[0m\u001b[1;32m    296\u001b[0m                 \u001b[0mgotit\u001b[0m \u001b[0;34m=\u001b[0m \u001b[0;32mTrue\u001b[0m\u001b[0;34m\u001b[0m\u001b[0m\n\u001b[1;32m    297\u001b[0m             \u001b[0;32melse\u001b[0m\u001b[0;34m:\u001b[0m\u001b[0;34m\u001b[0m\u001b[0m\n",
      "\u001b[0;31mKeyboardInterrupt\u001b[0m: "
     ]
    }
   ],
   "source": [
    "sclf1.fit(X_train,Y_train)\n",
    "sclf1.score(X_test,Y_test)"
   ]
  },
  {
   "cell_type": "code",
   "execution_count": null,
   "metadata": {},
   "outputs": [],
   "source": []
  },
  {
   "cell_type": "code",
   "execution_count": null,
   "metadata": {},
   "outputs": [],
   "source": [
    "# dataframe.to_excel(excel_writer = \"/home/ryan/MachineHack/Food_QUalityA_ParticipantsData/Data_TrainCLEANED.xlsx\")"
   ]
  }
 ],
 "metadata": {
  "kernelspec": {
   "display_name": "Python 3",
   "language": "python",
   "name": "python3"
  },
  "language_info": {
   "codemirror_mode": {
    "name": "ipython",
    "version": 3
   },
   "file_extension": ".py",
   "mimetype": "text/x-python",
   "name": "python",
   "nbconvert_exporter": "python",
   "pygments_lexer": "ipython3",
   "version": "3.6.6"
  }
 },
 "nbformat": 4,
 "nbformat_minor": 2
}
